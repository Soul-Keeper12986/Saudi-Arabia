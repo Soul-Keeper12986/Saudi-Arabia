{
 "cells": [
  {
   "cell_type": "code",
   "execution_count": 203,
   "id": "5c53ec3b",
   "metadata": {},
   "outputs": [],
   "source": [
    "import numpy as np\n",
    "import pandas as pd\n",
    "import matplotlib.pyplot as plt\n",
    "from scipy.stats import rayleigh, gilbrat, norm\n",
    "import sys\n",
    "import csv\n",
    "import random\n",
    "import time\n",
    "from datetime import timedelta, date\n",
    "from sqlalchemy import create_engine\n",
    "import sqlite3\n",
    "engine = create_engine('sqlite://', echo=False)\n"
   ]
  },
  {
   "cell_type": "code",
   "execution_count": 204,
   "id": "89b6a8bf",
   "metadata": {},
   "outputs": [],
   "source": [
    "products_instances = pd.read_csv('C:/Users/ivan-/OneDrive/Desktop/materials/charge/business_product_instances.csv')\n",
    "products=pd.read_csv('C:/Users/ivan-/OneDrive/Desktop/materials/charge/products.csv')\n",
    "customers=pd.read_csv('../Customer/Customers.csv')\n",
    "costed_events=pd.read_csv('C:/Users/ivan-/OneDrive/Desktop/materials/product/costed_events.csv')"
   ]
  },
  {
   "cell_type": "code",
   "execution_count": 205,
   "id": "e435a35d",
   "metadata": {},
   "outputs": [],
   "source": [
    "customers.to_sql('Customers_table', con=engine)\n",
    "products.to_sql('Products_table', con=engine)\n",
    "products_instances.to_sql('Products_instances_table', con=engine)\n",
    "costed_events.to_sql('Costed_events_table', con=engine)"
   ]
  },
  {
   "cell_type": "code",
   "execution_count": 206,
   "id": "76243357",
   "metadata": {},
   "outputs": [],
   "source": [
    "#prepaid=engine.execute(\"\"\"\n",
    "#Select c.business_product_instance_id,1 as charge_couter,pi.activation_date,p.cumulative_charge,\n",
    "#CASE\n",
    "#    WHEN p.recurrent = False \n",
    "#        THEN 'Once'\n",
    "#    WHEN p.recurrent = True\n",
    "#        THEN 'Reccurent'\n",
    "#    END AS recurrent \n",
    "#from Costed_events_table c\n",
    "#join Products_instances_table pi on\n",
    "#c.business_product_instance_id=pi.[Unnamed: 0]\n",
    "#join Products_table p on\n",
    "#pi.product_id=p.id\n",
    "#where p.category='prepaid' and  c.date between pi.activation_date and pi.termination_date\n",
    "#\n",
    "#group by c.business_product_instance_id\n",
    "#\n",
    "#  \"\"\"\n",
    "#                        ).fetchall()\n",
    "#\n",
    "#\n",
    "\n",
    "   "
   ]
  },
  {
   "cell_type": "code",
   "execution_count": 207,
   "id": "aea47e8e",
   "metadata": {},
   "outputs": [],
   "source": [
    "#postpaid=engine.execute(\"\"\"\n",
    "#Select c.business_product_instance_id, count(c.event_id) as charge_couter,pi.termination_date,sum(c.cost)+p.cumulative_charge,\n",
    "#CASE\n",
    "#    WHEN p.recurrent = False \n",
    "#        THEN 'Once'\n",
    "#    WHEN p.recurrent = True\n",
    "#        THEN 'Reccurent'\n",
    "#    END AS recurrent \n",
    "#from Costed_events_table c\n",
    "#join Products_instances_table pi on\n",
    "#c.business_product_instance_id=pi.[Unnamed: 0]\n",
    "#join Products_table p on\n",
    "#pi.product_id=p.id\n",
    "#where p.category='prepaid' and  c.date between pi.activation_date and pi.termination_date\n",
    "#\n",
    "#group by c.business_product_instance_id\n",
    "#\n",
    "#  \"\"\"\n",
    "#                         ).fetchall()\n"
   ]
  },
  {
   "cell_type": "code",
   "execution_count": 208,
   "id": "39f87864",
   "metadata": {},
   "outputs": [
    {
     "data": {
      "text/plain": [
       "<sqlalchemy.engine.cursor.LegacyCursorResult at 0x1ca84b2cb20>"
      ]
     },
     "execution_count": 208,
     "metadata": {},
     "output_type": "execute_result"
    }
   ],
   "source": [
    "engine.execute(\"\"\"\n",
    "Create table Charge_table(\n",
    "charge_id integer primary key autoincrement,\n",
    "business_product_instance_id int,\n",
    "charge_counter int,\n",
    "date date,\n",
    "cost float,\n",
    "event_type varchar(20))\n",
    "\n",
    "  \"\"\"\n",
    "              )"
   ]
  },
  {
   "cell_type": "code",
   "execution_count": 209,
   "id": "c66dddbd",
   "metadata": {
    "scrolled": true
   },
   "outputs": [
    {
     "data": {
      "text/plain": [
       "<sqlalchemy.engine.cursor.LegacyCursorResult at 0x1ca81189190>"
      ]
     },
     "execution_count": 209,
     "metadata": {},
     "output_type": "execute_result"
    }
   ],
   "source": [
    "engine.execute(\"\"\"\n",
    "With prepaid as (Select c.business_product_instance_id,1 as charge_couter,pi.activation_date as date,p.cumulative_charge as cost,\n",
    "CASE\n",
    "    WHEN p.recurrent = False \n",
    "        THEN 'Once'\n",
    "    WHEN p.recurrent = True\n",
    "        THEN 'Reccurent'\n",
    "    END AS event_type \n",
    "from Costed_events_table c\n",
    "join Products_instances_table pi on\n",
    "c.business_product_instance_id=pi.[Unnamed: 0]\n",
    "join Products_table p on\n",
    "pi.product_id=p.id\n",
    "where p.category='prepaid' and  c.date between pi.activation_date and pi.termination_date\n",
    "\n",
    "group by c.business_product_instance_id),\n",
    "\n",
    "\n",
    "postpaid as(Select c.business_product_instance_id, count(c.event_id) as charge_couter,pi.termination_date as date,\n",
    "sum(c.cost)+p.cumulative_charge as cost,\n",
    "CASE\n",
    "    WHEN p.recurrent = False \n",
    "        THEN 'Once'\n",
    "    WHEN p.recurrent = True\n",
    "        THEN 'Reccurent'\n",
    "    END AS event_type \n",
    "from Costed_events_table c\n",
    "join Products_instances_table pi on\n",
    "c.business_product_instance_id=pi.[Unnamed: 0]\n",
    "join Products_table p on\n",
    "pi.product_id=p.id\n",
    "where p.category='postpaid' and  c.date between pi.activation_date and pi.termination_date\n",
    "\n",
    "group by c.business_product_instance_id),\n",
    "\n",
    "all_charges as (\n",
    "Select *from prepaid\n",
    "union all\n",
    "Select *from postpaid)\n",
    "\n",
    "INSERT INTO Charge_table (business_product_instance_id ,\n",
    "charge_counter ,\n",
    "date ,\n",
    "cost ,\n",
    "event_type )  SELECT *from all_charges;\n",
    "\n",
    "\n",
    "  \"\"\"\n",
    "                         )"
   ]
  },
  {
   "cell_type": "code",
   "execution_count": 210,
   "id": "712212bf",
   "metadata": {},
   "outputs": [],
   "source": [
    "charges_all_finally=engine.execute(\"\"\"\n",
    "select *from Charge_table\n",
    "  \"\"\"    ).fetchall()"
   ]
  },
  {
   "cell_type": "code",
   "execution_count": 211,
   "id": "906c0e22",
   "metadata": {},
   "outputs": [
    {
     "data": {
      "text/plain": [
       "<sqlalchemy.engine.cursor.LegacyCursorResult at 0x1ca8182ebb0>"
      ]
     },
     "execution_count": 211,
     "metadata": {},
     "output_type": "execute_result"
    }
   ],
   "source": [
    "engine.execute(\"\"\"\n",
    "drop table Charge_table\n",
    "  \"\"\"\n",
    "                         )"
   ]
  },
  {
   "cell_type": "code",
   "execution_count": 212,
   "id": "b71f3181",
   "metadata": {},
   "outputs": [
    {
     "data": {
      "text/html": [
       "<div>\n",
       "<style scoped>\n",
       "    .dataframe tbody tr th:only-of-type {\n",
       "        vertical-align: middle;\n",
       "    }\n",
       "\n",
       "    .dataframe tbody tr th {\n",
       "        vertical-align: top;\n",
       "    }\n",
       "\n",
       "    .dataframe thead th {\n",
       "        text-align: right;\n",
       "    }\n",
       "</style>\n",
       "<table border=\"1\" class=\"dataframe\">\n",
       "  <thead>\n",
       "    <tr style=\"text-align: right;\">\n",
       "      <th></th>\n",
       "      <th>charge_id</th>\n",
       "      <th>business_product_instance_id</th>\n",
       "      <th>charge_counter</th>\n",
       "      <th>date</th>\n",
       "      <th>cost</th>\n",
       "      <th>event_type</th>\n",
       "    </tr>\n",
       "  </thead>\n",
       "  <tbody>\n",
       "    <tr>\n",
       "      <th>0</th>\n",
       "      <td>1</td>\n",
       "      <td>24</td>\n",
       "      <td>1</td>\n",
       "      <td>2022-02-23</td>\n",
       "      <td>148.5</td>\n",
       "      <td>Once</td>\n",
       "    </tr>\n",
       "    <tr>\n",
       "      <th>1</th>\n",
       "      <td>2</td>\n",
       "      <td>25</td>\n",
       "      <td>1</td>\n",
       "      <td>2022-02-11</td>\n",
       "      <td>148.5</td>\n",
       "      <td>Once</td>\n",
       "    </tr>\n",
       "  </tbody>\n",
       "</table>\n",
       "</div>"
      ],
      "text/plain": [
       "   charge_id  business_product_instance_id  charge_counter        date   cost  \\\n",
       "0          1                            24               1  2022-02-23  148.5   \n",
       "1          2                            25               1  2022-02-11  148.5   \n",
       "\n",
       "  event_type  \n",
       "0       Once  \n",
       "1       Once  "
      ]
     },
     "execution_count": 212,
     "metadata": {},
     "output_type": "execute_result"
    }
   ],
   "source": [
    "charges_df=pd.DataFrame(charges_all_finally,\n",
    "                    columns=['charge_id',\n",
    "'business_product_instance_id',\n",
    "'charge_counter',\n",
    "'date',\n",
    "'cost',\n",
    "'event_type',\n",
    " ])\n",
    "charges_df"
   ]
  },
  {
   "cell_type": "code",
   "execution_count": 213,
   "id": "2dbf2268",
   "metadata": {},
   "outputs": [],
   "source": [
    "charges_df.to_csv('charges.csv')"
   ]
  },
  {
   "cell_type": "code",
   "execution_count": null,
   "id": "69e69481",
   "metadata": {},
   "outputs": [],
   "source": []
  },
  {
   "cell_type": "code",
   "execution_count": null,
   "id": "84904c38",
   "metadata": {},
   "outputs": [],
   "source": []
  }
 ],
 "metadata": {
  "kernelspec": {
   "display_name": "Python 3 (ipykernel)",
   "language": "python",
   "name": "python3"
  },
  "language_info": {
   "codemirror_mode": {
    "name": "ipython",
    "version": 3
   },
   "file_extension": ".py",
   "mimetype": "text/x-python",
   "name": "python",
   "nbconvert_exporter": "python",
   "pygments_lexer": "ipython3",
   "version": "3.9.5"
  }
 },
 "nbformat": 4,
 "nbformat_minor": 5
}
