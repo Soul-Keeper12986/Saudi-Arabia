{
 "cells": [
  {
   "cell_type": "markdown",
   "metadata": {
    "collapsed": true,
    "pycharm": {
     "name": "#%% md\n"
    }
   },
   "source": [
    "# Product instance"
   ]
  },
  {
   "cell_type": "code",
   "execution_count": 1,
   "outputs": [],
   "source": [
    "import numpy as np\n",
    "import pandas as pd\n",
    "import matplotlib.pyplot as plt\n",
    "from scipy.stats import rayleigh, gilbrat, norm\n",
    "import seaborn as sns\n",
    "import random\n",
    "import time\n",
    "from datetime import timedelta, date"
   ],
   "metadata": {
    "collapsed": false,
    "pycharm": {
     "name": "#%%\n"
    }
   }
  },
  {
   "cell_type": "code",
   "execution_count": 2,
   "outputs": [
    {
     "data": {
      "text/plain": "                      name category    type  recurrent  cost_for_call  \\\nid                                                                      \n0                       30  prepaid  tariff       True           0.55   \n1                    share  prepaid  tariff       True           0.55   \n2                     star  prepaid  tariff       True           0.55   \n3     unlimited_data_month  prepaid  tariff      False           0.00   \n4   unlimited_data_3months  prepaid  tariff      False           0.00   \n\n    cost_for_sms  cost_for_data  allowance_sms      allowance_voice  \\\nid                                                                    \n0           0.25          0.002              0                  200   \n1           0.25          0.002              0  9223372036854775807   \n2           0.25          0.002              0  9223372036854775807   \n3           0.00          0.000              0                    0   \n4           0.00          0.000              0                    0   \n\n    allowance_data  duration  cumulative_charge  \nid                                               \n0     1.000000e+09        30              34.50  \n1     1.000000e+10        30             126.50  \n2     1.000000e+11        30             253.00  \n3     1.000000e+13        30             391.00  \n4     1.000000e+13        90            1121.25  ",
      "text/html": "<div>\n<style scoped>\n    .dataframe tbody tr th:only-of-type {\n        vertical-align: middle;\n    }\n\n    .dataframe tbody tr th {\n        vertical-align: top;\n    }\n\n    .dataframe thead th {\n        text-align: right;\n    }\n</style>\n<table border=\"1\" class=\"dataframe\">\n  <thead>\n    <tr style=\"text-align: right;\">\n      <th></th>\n      <th>name</th>\n      <th>category</th>\n      <th>type</th>\n      <th>recurrent</th>\n      <th>cost_for_call</th>\n      <th>cost_for_sms</th>\n      <th>cost_for_data</th>\n      <th>allowance_sms</th>\n      <th>allowance_voice</th>\n      <th>allowance_data</th>\n      <th>duration</th>\n      <th>cumulative_charge</th>\n    </tr>\n    <tr>\n      <th>id</th>\n      <th></th>\n      <th></th>\n      <th></th>\n      <th></th>\n      <th></th>\n      <th></th>\n      <th></th>\n      <th></th>\n      <th></th>\n      <th></th>\n      <th></th>\n      <th></th>\n    </tr>\n  </thead>\n  <tbody>\n    <tr>\n      <th>0</th>\n      <td>30</td>\n      <td>prepaid</td>\n      <td>tariff</td>\n      <td>True</td>\n      <td>0.55</td>\n      <td>0.25</td>\n      <td>0.002</td>\n      <td>0</td>\n      <td>200</td>\n      <td>1.000000e+09</td>\n      <td>30</td>\n      <td>34.50</td>\n    </tr>\n    <tr>\n      <th>1</th>\n      <td>share</td>\n      <td>prepaid</td>\n      <td>tariff</td>\n      <td>True</td>\n      <td>0.55</td>\n      <td>0.25</td>\n      <td>0.002</td>\n      <td>0</td>\n      <td>9223372036854775807</td>\n      <td>1.000000e+10</td>\n      <td>30</td>\n      <td>126.50</td>\n    </tr>\n    <tr>\n      <th>2</th>\n      <td>star</td>\n      <td>prepaid</td>\n      <td>tariff</td>\n      <td>True</td>\n      <td>0.55</td>\n      <td>0.25</td>\n      <td>0.002</td>\n      <td>0</td>\n      <td>9223372036854775807</td>\n      <td>1.000000e+11</td>\n      <td>30</td>\n      <td>253.00</td>\n    </tr>\n    <tr>\n      <th>3</th>\n      <td>unlimited_data_month</td>\n      <td>prepaid</td>\n      <td>tariff</td>\n      <td>False</td>\n      <td>0.00</td>\n      <td>0.00</td>\n      <td>0.000</td>\n      <td>0</td>\n      <td>0</td>\n      <td>1.000000e+13</td>\n      <td>30</td>\n      <td>391.00</td>\n    </tr>\n    <tr>\n      <th>4</th>\n      <td>unlimited_data_3months</td>\n      <td>prepaid</td>\n      <td>tariff</td>\n      <td>False</td>\n      <td>0.00</td>\n      <td>0.00</td>\n      <td>0.000</td>\n      <td>0</td>\n      <td>0</td>\n      <td>1.000000e+13</td>\n      <td>90</td>\n      <td>1121.25</td>\n    </tr>\n  </tbody>\n</table>\n</div>"
     },
     "execution_count": 2,
     "metadata": {},
     "output_type": "execute_result"
    }
   ],
   "source": [
    "products = pd.read_csv('products.csv').set_index('id')\n",
    "products.head()"
   ],
   "metadata": {
    "collapsed": false,
    "pycharm": {
     "name": "#%%\n"
    }
   }
  },
  {
   "cell_type": "code",
   "execution_count": 3,
   "outputs": [
    {
     "data": {
      "text/plain": "             Unnamed: 0  Gender   First name  Last name Date_of_birth  \\\nCustomer_ID                                                             \n10                    0  Female         Maha     Salman    2021-11-26   \n19                    1    Male        Rabih      Jahid    2021-05-17   \n7                     2    Male    Aminullah    Ghafour    1981-07-23   \n12                    3  Female  Khairunnisa     Rushdi    1978-07-31   \n2                     4    Male        Samir  Manqabadi    1999-01-01   \n\n            Agree_for_promo autoplay_card                     Customer_Email  \\\nCustomer_ID                                                                    \n10                       No            No         MahaSalman71@aramco.com.sa   \n19                       No           Yes          RabihJahid7@naseej.com.sa   \n7                        No           Yes   AminullahGhafour1@compuserve.com   \n12                      Yes            No  KhairunnisaRushdi66@sahara.com.sa   \n2                        No           Yes     SamirManqabadi89@sahara.com.sa   \n\n                      MSISDN    Status Region Language  Category  \\\nCustomer_ID                                                        \n10           +996-55-6660536  Inactive  Mecca   Arabic  Business   \n19           +996-53-8148968  Inactive  Mecca   Arabic  Business   \n7            +996-50-5552362  Inactive  Mecca   Arabic  Business   \n12           +996-55-7519735  Inactive   Asir   Arabic  Business   \n2            +996-55-7844883    Active  Jizan   Arabic  Business   \n\n             termination_date  \nCustomer_ID                    \n10                        NaN  \n19                        NaN  \n7                         NaN  \n12                        NaN  \n2                         NaN  ",
      "text/html": "<div>\n<style scoped>\n    .dataframe tbody tr th:only-of-type {\n        vertical-align: middle;\n    }\n\n    .dataframe tbody tr th {\n        vertical-align: top;\n    }\n\n    .dataframe thead th {\n        text-align: right;\n    }\n</style>\n<table border=\"1\" class=\"dataframe\">\n  <thead>\n    <tr style=\"text-align: right;\">\n      <th></th>\n      <th>Unnamed: 0</th>\n      <th>Gender</th>\n      <th>First name</th>\n      <th>Last name</th>\n      <th>Date_of_birth</th>\n      <th>Agree_for_promo</th>\n      <th>autoplay_card</th>\n      <th>Customer_Email</th>\n      <th>MSISDN</th>\n      <th>Status</th>\n      <th>Region</th>\n      <th>Language</th>\n      <th>Category</th>\n      <th>termination_date</th>\n    </tr>\n    <tr>\n      <th>Customer_ID</th>\n      <th></th>\n      <th></th>\n      <th></th>\n      <th></th>\n      <th></th>\n      <th></th>\n      <th></th>\n      <th></th>\n      <th></th>\n      <th></th>\n      <th></th>\n      <th></th>\n      <th></th>\n      <th></th>\n    </tr>\n  </thead>\n  <tbody>\n    <tr>\n      <th>10</th>\n      <td>0</td>\n      <td>Female</td>\n      <td>Maha</td>\n      <td>Salman</td>\n      <td>2021-11-26</td>\n      <td>No</td>\n      <td>No</td>\n      <td>MahaSalman71@aramco.com.sa</td>\n      <td>+996-55-6660536</td>\n      <td>Inactive</td>\n      <td>Mecca</td>\n      <td>Arabic</td>\n      <td>Business</td>\n      <td>NaN</td>\n    </tr>\n    <tr>\n      <th>19</th>\n      <td>1</td>\n      <td>Male</td>\n      <td>Rabih</td>\n      <td>Jahid</td>\n      <td>2021-05-17</td>\n      <td>No</td>\n      <td>Yes</td>\n      <td>RabihJahid7@naseej.com.sa</td>\n      <td>+996-53-8148968</td>\n      <td>Inactive</td>\n      <td>Mecca</td>\n      <td>Arabic</td>\n      <td>Business</td>\n      <td>NaN</td>\n    </tr>\n    <tr>\n      <th>7</th>\n      <td>2</td>\n      <td>Male</td>\n      <td>Aminullah</td>\n      <td>Ghafour</td>\n      <td>1981-07-23</td>\n      <td>No</td>\n      <td>Yes</td>\n      <td>AminullahGhafour1@compuserve.com</td>\n      <td>+996-50-5552362</td>\n      <td>Inactive</td>\n      <td>Mecca</td>\n      <td>Arabic</td>\n      <td>Business</td>\n      <td>NaN</td>\n    </tr>\n    <tr>\n      <th>12</th>\n      <td>3</td>\n      <td>Female</td>\n      <td>Khairunnisa</td>\n      <td>Rushdi</td>\n      <td>1978-07-31</td>\n      <td>Yes</td>\n      <td>No</td>\n      <td>KhairunnisaRushdi66@sahara.com.sa</td>\n      <td>+996-55-7519735</td>\n      <td>Inactive</td>\n      <td>Asir</td>\n      <td>Arabic</td>\n      <td>Business</td>\n      <td>NaN</td>\n    </tr>\n    <tr>\n      <th>2</th>\n      <td>4</td>\n      <td>Male</td>\n      <td>Samir</td>\n      <td>Manqabadi</td>\n      <td>1999-01-01</td>\n      <td>No</td>\n      <td>Yes</td>\n      <td>SamirManqabadi89@sahara.com.sa</td>\n      <td>+996-55-7844883</td>\n      <td>Active</td>\n      <td>Jizan</td>\n      <td>Arabic</td>\n      <td>Business</td>\n      <td>NaN</td>\n    </tr>\n  </tbody>\n</table>\n</div>"
     },
     "execution_count": 3,
     "metadata": {},
     "output_type": "execute_result"
    }
   ],
   "source": [
    "customers = pd.read_csv('../Customer/Customers.csv').set_index('Customer_ID')\n",
    "customers.head()"
   ],
   "metadata": {
    "collapsed": false,
    "pycharm": {
     "name": "#%%\n"
    }
   }
  },
  {
   "cell_type": "code",
   "execution_count": 4,
   "outputs": [],
   "source": [
    "# https://worldpopulationreview.com/countries/saudi-arabia-population\n",
    "population = 35678883\n",
    "female_percent = 42.6\n",
    "male_percent = 57.4\n",
    "# government stats https://www.stats.gov.sa/en/5305\n",
    "below_20_total = (2674932 + 2771032 + 2428319 + 2216050) / 31787580\n",
    "below_20_saudis_only = (2137185 + 2088919 + 1869325 + 1761027) / 20081582\n",
    "\n",
    "# https://www.gsma.com/publicpolicy/wp-content/uploads/2012/03/GSMA_ChildrensMobilePhones2013WEB.pdf\n",
    "children_with_smartphones = 70.5\n",
    "children_with_phones = 87.0\n",
    "children_used_phone_once = 6.7\n",
    "\n",
    "# https://www.itu.int/en/ITU-D/Regional-Presence/ArabStates/Documents/events/2018/Women/GSMA%20Connected%20Women%20Gender%20Gap%20Report%202018%20-%20Oliver%20Rowntree.pdf\n",
    "gender_gap_facebook = 70.0\n",
    "# https://www.mckinsey.com/~/media/mckinsey/industries/technology%20media%20and%20telecommunications/telecommunications/our%20insights/winning%20the%20rush%20for%20data%20services%20in%20the%20middle%20east%20and%20africa/telecommunications%20industry%20at%20cliffs%20edge%20time%20for%20bold%20decisions_june2016.pdf\n",
    "# Saudi Arabia has world’s highest rate of YouTube subscribers"
   ],
   "metadata": {
    "collapsed": false,
    "pycharm": {
     "name": "#%%\n"
    }
   }
  },
  {
   "cell_type": "code",
   "execution_count": 5,
   "outputs": [],
   "source": [
    "# https://datareportal.com/reports/digital-2021-saudi-arabia\n",
    "connections_per_user = 1.127\n",
    "total_connections = connections_per_user * population\n",
    "\n",
    "# Gender gap calculation: https://www.gsma.com/mobilefordevelopment/wp-content/uploads/2018/04/GSMA_The_Mobile_Gender_Gap_Report_2018_32pp_WEBv7.pdf\n",
    "mt = (population * male_percent / 100)\n",
    "ft = (population * female_percent / 100)\n",
    "\n",
    "\n",
    "mu = population / (1 + 0.76 * ft / mt)\n",
    "fu = 0.76 * ft * mu / mt\n",
    "\n",
    "female_connections = fu\n",
    "male_connections = total_connections - female_connections\n",
    "male_connections_percent = male_connections / total_connections\n",
    "female_connections_percent = female_connections / total_connections\n",
    "\n",
    "# https://theinclusiveinternet.eiu.com/explore/countries/SA/performance/indicators/affordability/competitive-environment/average-revenue-per-user-arpu-annualized\n",
    "annual_ARPU_in_dollars = 332\n",
    "saudi_riyal_to_dollars = 0.27\n",
    "# monthly expenditure\n",
    "mean_national_expenditure = annual_ARPU_in_dollars / 12 / saudi_riyal_to_dollars\n",
    "\n",
    "customers_number = customers.count()[0]\n",
    "# customers_number = 10000\n",
    "sample_connections = customers_number * connections_per_user\n",
    "male_size = int(sample_connections * male_connections_percent)\n",
    "female_size = int(sample_connections * female_connections_percent)\n",
    "\n",
    "# This value help the histogram look like th\n",
    "std = mean_national_expenditure * 0.572\n",
    "\n",
    "\n",
    "# the distribution of household expenditure for mobile phones: https://slideplayer.com/slide/17640605/\n",
    "# 50, 70, 1.3, 2 – coefficients that worked well so that the histogram looks similar to the known histogram and the mean is about the same as the known mean value\n",
    "# For more diverse range values, most primary belonging to men as they have many more jobs and much more income\n",
    "male_coef = int(customers_number * 0.1)\n",
    "\n",
    "male_expenditures = rayleigh.rvs(loc=mean_national_expenditure-50, scale=std/1.3, size=male_size - male_coef)\n",
    "female_expenditures = rayleigh.rvs(loc=mean_national_expenditure-70, scale=std/2, size=female_size)\n",
    "third_part_1 = np.random.uniform(size=int(0.45 * male_coef), low=34.5, high=650)\n",
    "third_part_2 = np.random.uniform(size=int(0.05 * male_coef), low=650, high=1200)\n",
    "fourth_part = norm.rvs(size=int(0.5 * male_coef), loc=mean_national_expenditure-60, scale=15)\n",
    "male_expenditures = np.concatenate([male_expenditures, third_part_1, third_part_2, fourth_part])\n",
    "\n",
    "male_expenditures[male_expenditures < 34.5] = 34.5\n",
    "female_expenditures[female_expenditures < 34.5] = 34.5\n",
    "total_expenditure = np.concatenate([male_expenditures, female_expenditures])\n",
    "np.random.shuffle(total_expenditure)"
   ],
   "metadata": {
    "collapsed": false,
    "pycharm": {
     "name": "#%%\n"
    }
   }
  },
  {
   "cell_type": "code",
   "execution_count": 196,
   "outputs": [
    {
     "name": "stdout",
     "output_type": "stream",
     "text": [
      "102.46913580246914\n",
      "106.33401167808411\n",
      "11269\n",
      "7663 3606 11269\n",
      "1.0\n"
     ]
    }
   ],
   "source": [
    "# A quick check with the known mean\n",
    "print(mean_national_expenditure)\n",
    "print(np.mean(total_expenditure))\n",
    "print(len(total_expenditure))\n",
    "print(male_size, female_size, male_size + female_size)\n",
    "print(male_connections_percent + female_connections_percent)"
   ],
   "metadata": {
    "collapsed": false,
    "pycharm": {
     "name": "#%%\n"
    }
   }
  },
  {
   "cell_type": "code",
   "execution_count": 197,
   "outputs": [
    {
     "name": "stdout",
     "output_type": "stream",
     "text": [
      "Freedman–Diaconis number of bins: 257\n"
     ]
    },
    {
     "data": {
      "text/plain": "(array([279., 221., 273., 341., 396., 493., 522., 574., 597., 571., 524.,\n        578., 569., 528., 497., 435., 443., 374., 350., 333., 285., 274.,\n        244., 181., 176., 163., 130., 103.,  85.,  72.,  58.,  42.,  44.,\n         27.,  33.,  20.,  13.,  11.,  13.,   8.,   4.,   3.,   9.,   8.,\n          2.,   3.,   5.,   1.,   4.,   0.,   4.,   3.,   8.,   6.,   5.,\n          2.,   3.,   5.,   7.,   3.,   8.,   3.,   4.,   1.,   6.,   3.,\n          0.,   4.,   4.,   3.,   4.,   3.,   5.,   6.,   3.,   3.,   1.,\n          3.,   2.,   2.,   3.,   3.,   3.,   3.,   3.,   3.,   4.,   1.,\n          2.,   2.,   0.,   2.,   4.,   3.,   3.,   3.,   8.,   4.,   3.,\n          3.,   6.,   1.,   3.,   1.,   6.,   2.,   2.,   4.,   2.,   3.,\n          2.,   4.,   2.,   6.,   4.,   4.,   6.,   6.,   8.,   5.,   1.,\n          2.,   6.,   5.,   3.,   4.,   3.,   2.,   1.,   0.,   1.,   0.,\n          7.,   5.,   2.,   4.,   2.,   1.,   0.,   0.,   0.,   0.,   1.,\n          2.,   0.,   1.,   0.,   0.,   1.,   0.,   0.,   0.,   0.,   1.,\n          0.,   0.,   0.,   0.,   2.,   1.,   0.,   0.,   0.,   0.,   1.,\n          0.,   1.,   1.,   0.,   0.,   1.,   0.,   1.,   2.,   1.,   0.,\n          0.,   2.,   0.,   1.,   1.,   1.,   0.,   0.,   0.,   0.,   0.,\n          0.,   0.,   1.,   0.,   2.,   0.,   0.,   0.,   0.,   1.,   1.,\n          0.,   1.,   0.,   0.,   1.,   0.,   1.,   0.,   0.,   1.,   0.,\n          0.,   0.,   1.,   2.,   1.,   0.,   0.,   0.,   0.,   0.,   1.,\n          1.,   0.,   0.,   0.,   1.,   0.,   0.,   0.,   1.,   1.,   1.,\n          0.,   0.,   0.,   0.,   2.,   0.,   0.,   1.,   0.,   0.,   0.,\n          0.,   1.,   0.,   0.,   0.,   0.,   1.,   0.,   0.,   0.,   0.,\n          1.,   0.,   1.,   2.]),\n array([  34.5       ,   38.97363408,   43.44726816,   47.92090224,\n          52.39453632,   56.8681704 ,   61.34180448,   65.81543855,\n          70.28907263,   74.76270671,   79.23634079,   83.70997487,\n          88.18360895,   92.65724303,   97.13087711,  101.60451119,\n         106.07814527,  110.55177935,  115.02541343,  119.49904751,\n         123.97268158,  128.44631566,  132.91994974,  137.39358382,\n         141.8672179 ,  146.34085198,  150.81448606,  155.28812014,\n         159.76175422,  164.2353883 ,  168.70902238,  173.18265646,\n         177.65629054,  182.12992461,  186.60355869,  191.07719277,\n         195.55082685,  200.02446093,  204.49809501,  208.97172909,\n         213.44536317,  217.91899725,  222.39263133,  226.86626541,\n         231.33989949,  235.81353357,  240.28716764,  244.76080172,\n         249.2344358 ,  253.70806988,  258.18170396,  262.65533804,\n         267.12897212,  271.6026062 ,  276.07624028,  280.54987436,\n         285.02350844,  289.49714252,  293.9707766 ,  298.44441067,\n         302.91804475,  307.39167883,  311.86531291,  316.33894699,\n         320.81258107,  325.28621515,  329.75984923,  334.23348331,\n         338.70711739,  343.18075147,  347.65438555,  352.12801962,\n         356.6016537 ,  361.07528778,  365.54892186,  370.02255594,\n         374.49619002,  378.9698241 ,  383.44345818,  387.91709226,\n         392.39072634,  396.86436042,  401.3379945 ,  405.81162858,\n         410.28526265,  414.75889673,  419.23253081,  423.70616489,\n         428.17979897,  432.65343305,  437.12706713,  441.60070121,\n         446.07433529,  450.54796937,  455.02160345,  459.49523753,\n         463.96887161,  468.44250568,  472.91613976,  477.38977384,\n         481.86340792,  486.337042  ,  490.81067608,  495.28431016,\n         499.75794424,  504.23157832,  508.7052124 ,  513.17884648,\n         517.65248056,  522.12611464,  526.59974871,  531.07338279,\n         535.54701687,  540.02065095,  544.49428503,  548.96791911,\n         553.44155319,  557.91518727,  562.38882135,  566.86245543,\n         571.33608951,  575.80972359,  580.28335767,  584.75699174,\n         589.23062582,  593.7042599 ,  598.17789398,  602.65152806,\n         607.12516214,  611.59879622,  616.0724303 ,  620.54606438,\n         625.01969846,  629.49333254,  633.96696662,  638.4406007 ,\n         642.91423477,  647.38786885,  651.86150293,  656.33513701,\n         660.80877109,  665.28240517,  669.75603925,  674.22967333,\n         678.70330741,  683.17694149,  687.65057557,  692.12420965,\n         696.59784373,  701.0714778 ,  705.54511188,  710.01874596,\n         714.49238004,  718.96601412,  723.4396482 ,  727.91328228,\n         732.38691636,  736.86055044,  741.33418452,  745.8078186 ,\n         750.28145268,  754.75508676,  759.22872083,  763.70235491,\n         768.17598899,  772.64962307,  777.12325715,  781.59689123,\n         786.07052531,  790.54415939,  795.01779347,  799.49142755,\n         803.96506163,  808.43869571,  812.91232979,  817.38596386,\n         821.85959794,  826.33323202,  830.8068661 ,  835.28050018,\n         839.75413426,  844.22776834,  848.70140242,  853.1750365 ,\n         857.64867058,  862.12230466,  866.59593874,  871.06957282,\n         875.54320689,  880.01684097,  884.49047505,  888.96410913,\n         893.43774321,  897.91137729,  902.38501137,  906.85864545,\n         911.33227953,  915.80591361,  920.27954769,  924.75318177,\n         929.22681585,  933.70044992,  938.174084  ,  942.64771808,\n         947.12135216,  951.59498624,  956.06862032,  960.5422544 ,\n         965.01588848,  969.48952256,  973.96315664,  978.43679072,\n         982.9104248 ,  987.38405887,  991.85769295,  996.33132703,\n        1000.80496111, 1005.27859519, 1009.75222927, 1014.22586335,\n        1018.69949743, 1023.17313151, 1027.64676559, 1032.12039967,\n        1036.59403375, 1041.06766783, 1045.5413019 , 1050.01493598,\n        1054.48857006, 1058.96220414, 1063.43583822, 1067.9094723 ,\n        1072.38310638, 1076.85674046, 1081.33037454, 1085.80400862,\n        1090.2776427 , 1094.75127678, 1099.22491086, 1103.69854493,\n        1108.17217901, 1112.64581309, 1117.11944717, 1121.59308125,\n        1126.06671533, 1130.54034941, 1135.01398349, 1139.48761757,\n        1143.96125165, 1148.43488573, 1152.90851981, 1157.38215389,\n        1161.85578796, 1166.32942204, 1170.80305612, 1175.2766902 ,\n        1179.75032428, 1184.22395836]),\n <BarContainer object of 257 artists>)"
     },
     "execution_count": 197,
     "metadata": {},
     "output_type": "execute_result"
    },
    {
     "data": {
      "text/plain": "<Figure size 432x288 with 1 Axes>",
      "image/png": "[encoded data removed]"
     },
     "metadata": {
      "needs_background": "light"
     },
     "output_type": "display_data"
    }
   ],
   "source": [
    "# calculate the number of bins\n",
    "q25, q75 = np.percentile(total_expenditure, [25, 75])\n",
    "bin_width = 2 * (q75 - q25) * len(total_expenditure) ** (-1/3)\n",
    "bins = round((total_expenditure.max() - total_expenditure.min()) / bin_width)\n",
    "print(\"Freedman–Diaconis number of bins:\", bins)\n",
    "\n",
    "# plot\n",
    "plt.hist(total_expenditure, bins=bins)"
   ],
   "metadata": {
    "collapsed": false,
    "pycharm": {
     "name": "#%%\n"
    }
   }
  },
  {
   "cell_type": "code",
   "execution_count": 198,
   "outputs": [
    {
     "data": {
      "text/plain": "<seaborn.axisgrid.FacetGrid at 0x7f83b2adcb80>"
     },
     "execution_count": 198,
     "metadata": {},
     "output_type": "execute_result"
    },
    {
     "data": {
      "text/plain": "<Figure size 360x360 with 1 Axes>",
      "image/png": "[encoded data removed]"
     },
     "metadata": {
      "needs_background": "light"
     },
     "output_type": "display_data"
    }
   ],
   "source": [
    "# probability plot\n",
    "sns.displot(total_expenditure[total_expenditure <= 1200], stat='probability', bins=50)"
   ],
   "metadata": {
    "collapsed": false,
    "pycharm": {
     "name": "#%%\n"
    }
   }
  },
  {
   "cell_type": "code",
   "execution_count": 6,
   "outputs": [
    {
     "name": "stdout",
     "output_type": "stream",
     "text": [
      "11269 11269\n"
     ]
    },
    {
     "data": {
      "text/plain": "   id gender  expenditure  tariff_id\n0   0   male    85.620248         -1\n1   1   male    79.658432         -1\n2   2   male   123.430219         -1\n3   3   male    91.989466         -1\n4   4   male    78.546214         -1",
      "text/html": "<div>\n<style scoped>\n    .dataframe tbody tr th:only-of-type {\n        vertical-align: middle;\n    }\n\n    .dataframe tbody tr th {\n        vertical-align: top;\n    }\n\n    .dataframe thead th {\n        text-align: right;\n    }\n</style>\n<table border=\"1\" class=\"dataframe\">\n  <thead>\n    <tr style=\"text-align: right;\">\n      <th></th>\n      <th>id</th>\n      <th>gender</th>\n      <th>expenditure</th>\n      <th>tariff_id</th>\n    </tr>\n  </thead>\n  <tbody>\n    <tr>\n      <th>0</th>\n      <td>0</td>\n      <td>male</td>\n      <td>85.620248</td>\n      <td>-1</td>\n    </tr>\n    <tr>\n      <th>1</th>\n      <td>1</td>\n      <td>male</td>\n      <td>79.658432</td>\n      <td>-1</td>\n    </tr>\n    <tr>\n      <th>2</th>\n      <td>2</td>\n      <td>male</td>\n      <td>123.430219</td>\n      <td>-1</td>\n    </tr>\n    <tr>\n      <th>3</th>\n      <td>3</td>\n      <td>male</td>\n      <td>91.989466</td>\n      <td>-1</td>\n    </tr>\n    <tr>\n      <th>4</th>\n      <td>4</td>\n      <td>male</td>\n      <td>78.546214</td>\n      <td>-1</td>\n    </tr>\n  </tbody>\n</table>\n</div>"
     },
     "execution_count": 6,
     "metadata": {},
     "output_type": "execute_result"
    }
   ],
   "source": [
    "# The start of DataFrame creation\n",
    "ids = np.arange(len(total_expenditure))\n",
    "gender = np.hstack((np.array(['male'] * male_size), np.array(['female'] * female_size)))\n",
    "expenditures = np.hstack((male_expenditures, female_expenditures))\n",
    "tariff = np.array([-1] * len(total_expenditure))\n",
    "\n",
    "print(len(gender), len(expenditures))\n",
    "table = pd.DataFrame({'id': ids, 'gender': gender, 'expenditure': expenditures, 'tariff_id': tariff})\n",
    "table.head()"
   ],
   "metadata": {
    "collapsed": false,
    "pycharm": {
     "name": "#%%\n"
    }
   }
  },
  {
   "cell_type": "code",
   "execution_count": 7,
   "outputs": [
    {
     "name": "stdout",
     "output_type": "stream",
     "text": [
      "[1485, 147, 152, 96, 205, 90, 10]\n",
      "140229284661136\n"
     ]
    },
    {
     "data": {
      "text/plain": "         id gender  expenditure  tariff_id\n11169  6908   male   585.471923         -1\n11170  6927   male   589.859551         -1\n11171  6959   male   590.306251         -1\n11172  6696   male   591.761251         -1\n11173  6902   male   591.836426         -1\n...     ...    ...          ...        ...\n11264  7127   male  1121.000000          4\n11265  7120   male  1121.000000          4\n11266  7133   male  1121.000000          4\n11267  7142   male  1121.000000          4\n11268  7154   male  1121.000000          4\n\n[100 rows x 4 columns]",
      "text/html": "<div>\n<style scoped>\n    .dataframe tbody tr th:only-of-type {\n        vertical-align: middle;\n    }\n\n    .dataframe tbody tr th {\n        vertical-align: top;\n    }\n\n    .dataframe thead th {\n        text-align: right;\n    }\n</style>\n<table border=\"1\" class=\"dataframe\">\n  <thead>\n    <tr style=\"text-align: right;\">\n      <th></th>\n      <th>id</th>\n      <th>gender</th>\n      <th>expenditure</th>\n      <th>tariff_id</th>\n    </tr>\n  </thead>\n  <tbody>\n    <tr>\n      <th>11169</th>\n      <td>6908</td>\n      <td>male</td>\n      <td>585.471923</td>\n      <td>-1</td>\n    </tr>\n    <tr>\n      <th>11170</th>\n      <td>6927</td>\n      <td>male</td>\n      <td>589.859551</td>\n      <td>-1</td>\n    </tr>\n    <tr>\n      <th>11171</th>\n      <td>6959</td>\n      <td>male</td>\n      <td>590.306251</td>\n      <td>-1</td>\n    </tr>\n    <tr>\n      <th>11172</th>\n      <td>6696</td>\n      <td>male</td>\n      <td>591.761251</td>\n      <td>-1</td>\n    </tr>\n    <tr>\n      <th>11173</th>\n      <td>6902</td>\n      <td>male</td>\n      <td>591.836426</td>\n      <td>-1</td>\n    </tr>\n    <tr>\n      <th>...</th>\n      <td>...</td>\n      <td>...</td>\n      <td>...</td>\n      <td>...</td>\n    </tr>\n    <tr>\n      <th>11264</th>\n      <td>7127</td>\n      <td>male</td>\n      <td>1121.000000</td>\n      <td>4</td>\n    </tr>\n    <tr>\n      <th>11265</th>\n      <td>7120</td>\n      <td>male</td>\n      <td>1121.000000</td>\n      <td>4</td>\n    </tr>\n    <tr>\n      <th>11266</th>\n      <td>7133</td>\n      <td>male</td>\n      <td>1121.000000</td>\n      <td>4</td>\n    </tr>\n    <tr>\n      <th>11267</th>\n      <td>7142</td>\n      <td>male</td>\n      <td>1121.000000</td>\n      <td>4</td>\n    </tr>\n    <tr>\n      <th>11268</th>\n      <td>7154</td>\n      <td>male</td>\n      <td>1121.000000</td>\n      <td>4</td>\n    </tr>\n  </tbody>\n</table>\n<p>100 rows × 4 columns</p>\n</div>"
     },
     "execution_count": 7,
     "metadata": {},
     "output_type": "execute_result"
    }
   ],
   "source": [
    "# Data-only sims assignment\n",
    "# https://www.refworld.org/pdfid/502a0c51a.pdf\n",
    "data_only_subscriptions = 7.8 * 10 ** 6\n",
    "data_only_subscriptions_percent = data_only_subscriptions / total_connections\n",
    "data_only_in_dataset = int(len(total_expenditure) * data_only_subscriptions_percent)\n",
    "\n",
    "# Generate frequency of different data-only plans by gilbrat distribution\n",
    "s = gilbrat.rvs(loc=mean_national_expenditure-50, scale=60, size=data_only_in_dataset)\n",
    "s_len = len(s)\n",
    "\n",
    "\n",
    "data_ids = [5, 7, 6, 8, 3, 4]\n",
    "data_only_prices = [148, 171, 201, 230, 391, 1121]\n",
    "\n",
    "\n",
    "lengths = []\n",
    "lengths.append(len(s[s < data_only_prices[0]]))\n",
    "for i in range(len(data_only_prices) - 1):\n",
    "    lengths.append(len(s[(s >= data_only_prices[i]) & (s < data_only_prices[i + 1])]))\n",
    "lengths.append(len(s[s >= data_only_prices[-1]]))\n",
    "print(lengths)\n",
    "\n",
    "# Finally, assignment\n",
    "table=table.sort_values(by=['expenditure']).reset_index(drop=True)\n",
    "table.iloc[-lengths[-1]:, 3] = data_ids[-1]\n",
    "table.iloc[-lengths[-1]:, 2] = data_only_prices[-1]\n",
    "\n",
    "for data_id, data_price, length in (list(zip(data_ids, data_only_prices, lengths))[-2::-1]):\n",
    "    # print(data_id, data_price, length)\n",
    "    # df = \\\n",
    "    condition_1 = table['expenditure'] <= data_price\n",
    "    ind = table[table['expenditure'] <= data_price].index[-1]\n",
    "    condition_2 = table.index <= ind\n",
    "    cond_3 = ind - length < table.index\n",
    "    table.iloc[(condition_1 & condition_2 & cond_3).values, 3] = data_id\n",
    "    table.iloc[(condition_1 & condition_2 & cond_3).values, 2] = data_price\n",
    "    # print(df.count())\n",
    "    # print(id(df))\n",
    "print(id(table))\n",
    "    # table.loc[((table.expenditure <= data_price) & (table.index )), 'tariff_id'] = data_id\n",
    "    # table.loc[(table.expenditure <= data_price), 'expenditure'] = data_price\n",
    "\n",
    "# for i in range(table.shape[0] - 1, -1, -1):\n",
    "#     table\n",
    "\n",
    "table.tail(100)"
   ],
   "metadata": {
    "collapsed": false,
    "pycharm": {
     "name": "#%%\n"
    }
   }
  },
  {
   "cell_type": "code",
   "execution_count": 201,
   "outputs": [
    {
     "name": "stdout",
     "output_type": "stream",
     "text": [
      "id             2102\n",
      "gender         2102\n",
      "expenditure    2102\n",
      "tariff_id      2102\n",
      "dtype: int64\n",
      "2185\n",
      "id             11269\n",
      "gender         11269\n",
      "expenditure    11269\n",
      "tariff_id      11269\n",
      "dtype: int64\n"
     ]
    }
   ],
   "source": [
    "print(table[table.tariff_id != -1].count())\n",
    "print(data_only_in_dataset)\n",
    "print(table.count())"
   ],
   "metadata": {
    "collapsed": false,
    "pycharm": {
     "name": "#%%\n"
    }
   }
  },
  {
   "cell_type": "code",
   "execution_count": 8,
   "outputs": [
    {
     "name": "stdout",
     "output_type": "stream",
     "text": [
      "id             0\n",
      "gender         0\n",
      "expenditure    0\n",
      "tariff_id      0\n",
      "dtype: int64\n"
     ]
    }
   ],
   "source": [
    "# Prepaid/postpaid tariffs assignment\n",
    "# Frequences according to the graph\n",
    "prepaid_subscriptions_f = 0.75\n",
    "postpaid_subscriptions_f = 0.25\n",
    "\n",
    "# https://data.worldbank.org/indicator/SL.TLF.TOTL.FE.ZS?locations=SA\n",
    "# male_labor_force = 0.79124\n",
    "# female_labor_force = 0.20876\n",
    "\n",
    "# Since there is no way to know the rate of postpaid among genders/age groups, etc, the postpaid are given out randomly\n",
    "# indexes are chosen arbitrarily\n",
    "df = table[(table['expenditure'] >= 80.5) & (table['tariff_id'] == -1)]\n",
    "postpaid_num_1 = random.sample(list(df.index), int(df.count()[0] * postpaid_subscriptions_f * 0.95))\n",
    "table.iloc[[postpaid_num_1], 3] = 24\n",
    "\n",
    "df2 = table[(table['expenditure'] >= 571.5) & (table['tariff_id'] == -1)]\n",
    "postpaid_num_2 = random.sample(list(df2.index), int(df.count()[0] * postpaid_subscriptions_f * 0.05))\n",
    "table.iloc[[postpaid_num_2], 3] = 25\n",
    "\n",
    "# df3 = table[(table['expenditure'] >= 253.0) & (table['tariff_id'] == -1)]\n",
    "\n",
    "table.iloc[((table['expenditure'] >= 126.5) & (table['tariff_id'] == -1)).values, 3] = 1\n",
    "table.iloc[((table['expenditure'] >= 253.0) & (table['tariff_id'] == -1)).values, 3] = 2\n",
    "table.iloc[(table['tariff_id'] == -1).values, 3] = 0\n",
    "print(table[table.tariff_id == -1].count())"
   ],
   "metadata": {
    "collapsed": false,
    "pycharm": {
     "name": "#%%\n"
    }
   }
  },
  {
   "cell_type": "code",
   "execution_count": 9,
   "outputs": [
    {
     "name": "stderr",
     "output_type": "stream",
     "text": [
      "/Library/Frameworks/Python.framework/Versions/3.9/lib/python3.9/site-packages/pandas/core/arrays/datetimelike.py:1187: PerformanceWarning: Adding/subtracting object-dtype array to DatetimeArray not vectorized\n",
      "  warnings.warn(\n"
     ]
    },
    {
     "data": {
      "text/plain": "   customer_id  product_id  expenditure activation_date     termination_date  \\\n0          0.0         5.0        148.0      2022-02-25  2022-03-27 00:00:00   \n1          3.0         5.0        148.0      2022-02-20  2022-03-22 00:00:00   \n2          5.0         5.0        148.0      2022-02-11  2022-03-13 00:00:00   \n3          6.0         5.0        148.0      2022-02-24  2022-03-26 00:00:00   \n4          9.0         5.0        148.0      2022-02-18  2022-03-20 00:00:00   \n\n  distribution_channel  status  \n0       physical_store  active  \n1               online  active  \n2       physical_store  active  \n3       physical_store  active  \n4       physical_store  active  ",
      "text/html": "<div>\n<style scoped>\n    .dataframe tbody tr th:only-of-type {\n        vertical-align: middle;\n    }\n\n    .dataframe tbody tr th {\n        vertical-align: top;\n    }\n\n    .dataframe thead th {\n        text-align: right;\n    }\n</style>\n<table border=\"1\" class=\"dataframe\">\n  <thead>\n    <tr style=\"text-align: right;\">\n      <th></th>\n      <th>customer_id</th>\n      <th>product_id</th>\n      <th>expenditure</th>\n      <th>activation_date</th>\n      <th>termination_date</th>\n      <th>distribution_channel</th>\n      <th>status</th>\n    </tr>\n  </thead>\n  <tbody>\n    <tr>\n      <th>0</th>\n      <td>0.0</td>\n      <td>5.0</td>\n      <td>148.0</td>\n      <td>2022-02-25</td>\n      <td>2022-03-27 00:00:00</td>\n      <td>physical_store</td>\n      <td>active</td>\n    </tr>\n    <tr>\n      <th>1</th>\n      <td>3.0</td>\n      <td>5.0</td>\n      <td>148.0</td>\n      <td>2022-02-20</td>\n      <td>2022-03-22 00:00:00</td>\n      <td>online</td>\n      <td>active</td>\n    </tr>\n    <tr>\n      <th>2</th>\n      <td>5.0</td>\n      <td>5.0</td>\n      <td>148.0</td>\n      <td>2022-02-11</td>\n      <td>2022-03-13 00:00:00</td>\n      <td>physical_store</td>\n      <td>active</td>\n    </tr>\n    <tr>\n      <th>3</th>\n      <td>6.0</td>\n      <td>5.0</td>\n      <td>148.0</td>\n      <td>2022-02-24</td>\n      <td>2022-03-26 00:00:00</td>\n      <td>physical_store</td>\n      <td>active</td>\n    </tr>\n    <tr>\n      <th>4</th>\n      <td>9.0</td>\n      <td>5.0</td>\n      <td>148.0</td>\n      <td>2022-02-18</td>\n      <td>2022-03-20 00:00:00</td>\n      <td>physical_store</td>\n      <td>active</td>\n    </tr>\n  </tbody>\n</table>\n</div>"
     },
     "execution_count": 9,
     "metadata": {},
     "output_type": "execute_result"
    }
   ],
   "source": [
    "# PRODUCT INSTANCE CREATION\n",
    "# customers_0 = customers.copy()\n",
    "# for i in range(199):\n",
    "#     customers_0 = pd.concat([customers_0, customers.copy()], axis=0)\n",
    "\n",
    "\n",
    "customers_2 = customers.sort_values(by=['Gender', 'Category']).reset_index(drop=True)\n",
    "table_2 = table.sort_values(by=['gender', 'expenditure'], ascending=[True, False]).reset_index(drop=True)\n",
    "\n",
    "product_instances_1 = pd.DataFrame({\n",
    "    'customer_id': customers_2['Unnamed: 0'],\n",
    "    'product_id': table_2.iloc[:customers_2.count()[0], 3],\n",
    "    'expenditure': table_2.iloc[:customers_2.count()[0], 2]\n",
    "})\n",
    "# using males from the end\n",
    "start_index = table_2.count()[0] - customers_2.count()[0]\n",
    "product_instances_2 = pd.DataFrame({\n",
    "    'customer_id': customers_2.iloc[-start_index:, 0],\n",
    "    'product_id': table_2.iloc[customers_2.count()[0]:, 3],\n",
    "    'expenditure': table_2.iloc[customers_2.count()[0]:, 2]\n",
    "})\n",
    "product_instances = pd.concat([product_instances_1, product_instances_2], axis=0)\n",
    "\n",
    "def str_time_prop(start, end, time_format, prop):\n",
    "    stime = time.mktime(time.strptime(start, time_format))\n",
    "    etime = time.mktime(time.strptime(end, time_format))\n",
    "    ptime = stime + prop * (etime - stime)\n",
    "    return time.strftime(time_format, time.localtime(ptime))\n",
    "\n",
    "def random_date(start, end, prop):\n",
    "    return str_time_prop(start, end, '%Y-%m-%d', prop)\n",
    "\n",
    "dates = []\n",
    "for _ in range(product_instances.count()[0]):\n",
    "    dates.append(random_date(\"2022-02-01\", \"2022-02-28\", random.random()))\n",
    "product_instances['activation_date'] = pd.Series(dates)\n",
    "\n",
    "\n",
    "# Termination date\n",
    "product_instances['termination_date'] = np.nan\n",
    "not_recurrent = products[(products['recurrent'] == False) & (products['duration'] == 30)]\n",
    "product_instances.iloc[product_instances['product_id'].isin(not_recurrent.index).values, 4] = pd.to_datetime(product_instances.iloc[product_instances['product_id'].isin(not_recurrent.index).values, 3]) + pd.DateOffset(days=30)\n",
    "\n",
    "not_recurrent = products[(products['recurrent'] == False) & (products['duration'] == 90)]\n",
    "product_instances.iloc[product_instances['product_id'].isin(not_recurrent.index).values, 4] = pd.to_datetime(product_instances.iloc[product_instances['product_id'].isin(not_recurrent.index).values, 3]) + pd.DateOffset(days=90)\n",
    "\n",
    "recurrent = products[(products['recurrent'] == True)]\n",
    "days_to_add = np.random.randint(90, 300, product_instances.loc[(product_instances['product_id'].isin(recurrent.index).values), 'activation_date'].count())\n",
    "days_to_add = np.array(pd.Series(days_to_add).apply(lambda d: pd.DateOffset(days=d)))\n",
    "product_instances.iloc[product_instances['product_id'].isin(recurrent.index).values, 4] = pd.to_datetime(product_instances.loc[product_instances['product_id'].isin(recurrent.index), 'activation_date']) + days_to_add\n",
    "\n",
    "# Online sales of telecom services account for only one-fifth of all sales. Source: https://www.kearney.com/communications-media-technology/article/?/a/the-telecom-consumer-of-the-future\n",
    "product_instances['distribution_channel'] = np.random.choice(['physical_store', 'online'], size=product_instances.count().max(), p=[0.8, 0.2])\n",
    "product_instances['status'] = 'active'\n",
    "\n",
    "product_instances.head()"
   ],
   "metadata": {
    "collapsed": false,
    "pycharm": {
     "name": "#%%\n"
    }
   }
  },
  {
   "cell_type": "code",
   "execution_count": 11,
   "outputs": [
    {
     "data": {
      "text/plain": "    business_product_instance_id  cost  duration  number_of_sms  total_volume  \\\n34                          24.0   0.0        60            0.0           0.0   \n35                          24.0   0.0        73            0.0           0.0   \n38                          24.0   0.0        52            0.0           0.0   \n40                          24.0   0.0        89            0.0           0.0   \n48                          24.0   0.0        41            0.0           0.0   \n\n   event_type  event_id        date  direction  calling_msisdn  called_msisdn  \\\n34       call         0  2022-03-06  outcoming              -1             -1   \n35       call         1  2022-03-24  outcoming              -1             -1   \n38       call         2  2022-03-11  outcoming              -1             -1   \n40       call         3  2022-03-16  outcoming              -1             -1   \n48       call         4  2022-03-03  outcoming              -1             -1   \n\n    roaming  \n34    False  \n35    False  \n38    False  \n40    False  \n48    False  ",
      "text/html": "<div>\n<style scoped>\n    .dataframe tbody tr th:only-of-type {\n        vertical-align: middle;\n    }\n\n    .dataframe tbody tr th {\n        vertical-align: top;\n    }\n\n    .dataframe thead th {\n        text-align: right;\n    }\n</style>\n<table border=\"1\" class=\"dataframe\">\n  <thead>\n    <tr style=\"text-align: right;\">\n      <th></th>\n      <th>business_product_instance_id</th>\n      <th>cost</th>\n      <th>duration</th>\n      <th>number_of_sms</th>\n      <th>total_volume</th>\n      <th>event_type</th>\n      <th>event_id</th>\n      <th>date</th>\n      <th>direction</th>\n      <th>calling_msisdn</th>\n      <th>called_msisdn</th>\n      <th>roaming</th>\n    </tr>\n  </thead>\n  <tbody>\n    <tr>\n      <th>34</th>\n      <td>24.0</td>\n      <td>0.0</td>\n      <td>60</td>\n      <td>0.0</td>\n      <td>0.0</td>\n      <td>call</td>\n      <td>0</td>\n      <td>2022-03-06</td>\n      <td>outcoming</td>\n      <td>-1</td>\n      <td>-1</td>\n      <td>False</td>\n    </tr>\n    <tr>\n      <th>35</th>\n      <td>24.0</td>\n      <td>0.0</td>\n      <td>73</td>\n      <td>0.0</td>\n      <td>0.0</td>\n      <td>call</td>\n      <td>1</td>\n      <td>2022-03-24</td>\n      <td>outcoming</td>\n      <td>-1</td>\n      <td>-1</td>\n      <td>False</td>\n    </tr>\n    <tr>\n      <th>38</th>\n      <td>24.0</td>\n      <td>0.0</td>\n      <td>52</td>\n      <td>0.0</td>\n      <td>0.0</td>\n      <td>call</td>\n      <td>2</td>\n      <td>2022-03-11</td>\n      <td>outcoming</td>\n      <td>-1</td>\n      <td>-1</td>\n      <td>False</td>\n    </tr>\n    <tr>\n      <th>40</th>\n      <td>24.0</td>\n      <td>0.0</td>\n      <td>89</td>\n      <td>0.0</td>\n      <td>0.0</td>\n      <td>call</td>\n      <td>3</td>\n      <td>2022-03-16</td>\n      <td>outcoming</td>\n      <td>-1</td>\n      <td>-1</td>\n      <td>False</td>\n    </tr>\n    <tr>\n      <th>48</th>\n      <td>24.0</td>\n      <td>0.0</td>\n      <td>41</td>\n      <td>0.0</td>\n      <td>0.0</td>\n      <td>call</td>\n      <td>4</td>\n      <td>2022-03-03</td>\n      <td>outcoming</td>\n      <td>-1</td>\n      <td>-1</td>\n      <td>False</td>\n    </tr>\n  </tbody>\n</table>\n</div>"
     },
     "execution_count": 11,
     "metadata": {},
     "output_type": "execute_result"
    }
   ],
   "source": [
    "# Costed events\n",
    "# events = pd.DataFrame({\n",
    "#     'business_product_instance_id',\n",
    "#     'cost',\n",
    "#     'duration',\n",
    "#     'number_of_sms',\n",
    "#     'total_volume',\n",
    "#     'event_type',\n",
    "# })\n",
    "\n",
    "df1 = product_instances[product_instances['product_id'].isin([range(3,9)])]\n",
    "events1 = pd.DataFrame({\n",
    "    'business_product_instance_id': df1['product_id'],\n",
    "    'cost': 0,\n",
    "    'duration': 0,\n",
    "    'number_of_sms': 0,\n",
    "    'total_volume': np.random.randint(1, 10, df1.count()[0]) * 10e6,\n",
    "    'event_type': 'data',\n",
    "})\n",
    "\n",
    "df2 = product_instances[product_instances['product_id'].isin([range(3)])]\n",
    "events2_1 = pd.DataFrame({\n",
    "    'business_product_instance_id': df2['product_id'],\n",
    "    'cost': 0,\n",
    "    'duration': np.random.randint(1, 100, df2.count()[0]),\n",
    "    'number_of_sms': 0,\n",
    "    'total_volume': 0,\n",
    "    'event_type': 'call',\n",
    "})\n",
    "\n",
    "events2_2 = pd.DataFrame({\n",
    "    'business_product_instance_id': df2['product_id'],\n",
    "    'cost': 0,\n",
    "    'duration': 0,\n",
    "    'number_of_sms': 0,\n",
    "    'total_volume': np.random.randint(1, 10, df2.count()[0]) * 10e4,\n",
    "    'event_type': 'data',\n",
    "})\n",
    "\n",
    "df2_1 = df2[df2['product_id'] == 0]\n",
    "events2_3 = pd.DataFrame({\n",
    "    'business_product_instance_id': df2_1['product_id'],\n",
    "    'cost': df2_1['expenditure'] - 34.5,\n",
    "    'duration': 0,\n",
    "    'number_of_sms': (df2_1['expenditure'] - 34.5) // 0.25,\n",
    "    'total_volume': 0,\n",
    "    'event_type': 'sms',\n",
    "})\n",
    "\n",
    "df2_2 = df2[df2['product_id'] == 1]\n",
    "events2_4 = pd.DataFrame({\n",
    "    'business_product_instance_id': df2_2['product_id'],\n",
    "    'cost': df2_2['expenditure'] - 126.5,\n",
    "    'duration': 0,\n",
    "    'number_of_sms': (df2_2['expenditure'] - 126.5) // 0.25,\n",
    "    'total_volume': 0,\n",
    "    'event_type': 'sms',\n",
    "})\n",
    "\n",
    "df2_3 = df2[df2['product_id'] == 2]\n",
    "events2_5 = pd.DataFrame({\n",
    "    'business_product_instance_id': df2_3['product_id'],\n",
    "    'cost': df2_3['expenditure'] - 253.0,\n",
    "    'duration': 0,\n",
    "    'number_of_sms': (df2_3['expenditure'] - 253.0) // 0.25,\n",
    "    'total_volume': 0,\n",
    "    'event_type': 'sms',\n",
    "})\n",
    "\n",
    "df3 = product_instances[product_instances['product_id'].isin([24, 25])]\n",
    "events3_1 = pd.DataFrame({\n",
    "    'business_product_instance_id': df3['product_id'],\n",
    "    'cost': 0,\n",
    "    'duration': np.random.randint(1, 100, df3.count()[0]),\n",
    "    'number_of_sms': 0,\n",
    "    'total_volume': 0,\n",
    "    'event_type': 'call',\n",
    "})\n",
    "\n",
    "events3_2 = pd.DataFrame({\n",
    "    'business_product_instance_id': df3['product_id'],\n",
    "    'cost': 0,\n",
    "    'duration': 0,\n",
    "    'number_of_sms': 0,\n",
    "    'total_volume': np.random.randint(1, 10, df3.count()[0]) * 10e4,\n",
    "    'event_type': 'data',\n",
    "})\n",
    "\n",
    "df3_1 = df3[df3['product_id'] == 24]\n",
    "events3_3 = pd.DataFrame({\n",
    "    'business_product_instance_id': df3_1['product_id'],\n",
    "    'cost': df3_1['expenditure'] - 80.5,\n",
    "    'duration': 0,\n",
    "    'number_of_sms': (df3_1['expenditure'] - 80.5) // 0.285,\n",
    "    'total_volume': 0,\n",
    "    'event_type': 'sms',\n",
    "})\n",
    "\n",
    "df3_2 = df3[df3['product_id'] == 25]\n",
    "events3_4 = pd.DataFrame({\n",
    "    'business_product_instance_id': df3_2['product_id'],\n",
    "    'cost': df3_2['expenditure'] - 517.5,\n",
    "    'duration': 0,\n",
    "    'number_of_sms': (df3_2['expenditure'] - 517.5) // 0.285,\n",
    "    'total_volume': 0,\n",
    "    'event_type': 'sms',\n",
    "})\n",
    "\n",
    "\n",
    "events = pd.concat([value for key, value in globals().items() if key.startswith('event')], axis=0)\n",
    "# events.pop(0)\n",
    "# print(events.head())\n",
    "\n",
    "events['event_id'] = np.arange(len(events))\n",
    "dates = []\n",
    "for _ in range(events.count()[0]):\n",
    "    dates.append(random_date(\"2022-03-01\", \"2022-03-31\", random.random()))\n",
    "events['date'] = pd.Series(dates)\n",
    "\n",
    "events['direction'] = 'outcoming'\n",
    "events['roaming'] = np.random.choice([True, False], size=events.count()[0], p=[0.1 ,0.9])\n",
    "events['calling_msisdn'] = -1\n",
    "events['called_msisdn'] = -1\n",
    "events.head()"
   ],
   "metadata": {
    "collapsed": false,
    "pycharm": {
     "name": "#%%\n"
    }
   }
  },
  {
   "cell_type": "code",
   "execution_count": 12,
   "outputs": [
    {
     "data": {
      "text/plain": "0        148.0\n1        148.0\n2        148.0\n3        148.0\n4        148.0\n         ...  \n11264     34.5\n11265     34.5\n11266     34.5\n11267     34.5\n11268     34.5\nName: expenditure, Length: 12538, dtype: float64"
     },
     "execution_count": 12,
     "metadata": {},
     "output_type": "execute_result"
    }
   ],
   "source": [
    "product_instances.pop('expenditure')"
   ],
   "metadata": {
    "collapsed": false,
    "pycharm": {
     "name": "#%%\n"
    }
   }
  },
  {
   "cell_type": "code",
   "execution_count": null,
   "outputs": [],
   "source": [
    "product_instances.to_csv('business_product_instances.csv')\n",
    "events.to_csv('costed_events.csv')"
   ],
   "metadata": {
    "collapsed": false,
    "pycharm": {
     "name": "#%%\n"
    }
   }
  }
 ],
 "metadata": {
  "kernelspec": {
   "display_name": "Python 3",
   "language": "python",
   "name": "python3"
  },
  "language_info": {
   "codemirror_mode": {
    "name": "ipython",
    "version": 2
   },
   "file_extension": ".py",
   "mimetype": "text/x-python",
   "name": "python",
   "nbconvert_exporter": "python",
   "pygments_lexer": "ipython2",
   "version": "2.7.6"
  }
 },
 "nbformat": 4,
 "nbformat_minor": 0
}