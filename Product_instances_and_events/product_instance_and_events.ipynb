{
 "cells": [
  {
   "cell_type": "markdown",
   "metadata": {
    "collapsed": true,
    "pycharm": {
     "name": "#%% md\n"
    }
   },
   "source": [
    "# Product instance"
   ]
  },
  {
   "cell_type": "code",
   "execution_count": 2,
   "outputs": [],
   "source": [
    "import numpy as np\n",
    "import pandas as pd\n",
    "import matplotlib.pyplot as plt\n",
    "from scipy.stats import rayleigh, gilbrat, norm, truncnorm\n",
    "import seaborn as sns\n",
    "import random\n",
    "import time\n",
    "from datetime import datetime\n",
    "import sys"
   ],
   "metadata": {
    "collapsed": false,
    "pycharm": {
     "name": "#%%\n"
    }
   }
  },
  {
   "cell_type": "code",
   "execution_count": 3,
   "outputs": [
    {
     "data": {
      "text/plain": "                      name category    type  recurrent  cost_for_call  \\\nid                                                                      \n0                       30  prepaid  tariff       True           0.55   \n1                    share  prepaid  tariff       True           0.55   \n2                     star  prepaid  tariff       True           0.55   \n3     unlimited_data_month  prepaid  tariff      False           0.00   \n4   unlimited_data_3months  prepaid  tariff      False           0.00   \n\n    cost_for_sms  cost_for_data  allowance_sms      allowance_voice  \\\nid                                                                    \n0           0.25          0.002              0                  200   \n1           0.25          0.002              0  9223372036854775807   \n2           0.25          0.002              0  9223372036854775807   \n3           0.00          0.000              0                    0   \n4           0.00          0.000              0                    0   \n\n    allowance_data  duration  cumulative_charge  \nid                                               \n0     1.000000e+09        30              34.50  \n1     1.000000e+10        30             126.50  \n2     1.000000e+11        30             253.00  \n3     1.000000e+13        30             391.00  \n4     1.000000e+13        90            1121.25  ",
      "text/html": "<div>\n<style scoped>\n    .dataframe tbody tr th:only-of-type {\n        vertical-align: middle;\n    }\n\n    .dataframe tbody tr th {\n        vertical-align: top;\n    }\n\n    .dataframe thead th {\n        text-align: right;\n    }\n</style>\n<table border=\"1\" class=\"dataframe\">\n  <thead>\n    <tr style=\"text-align: right;\">\n      <th></th>\n      <th>name</th>\n      <th>category</th>\n      <th>type</th>\n      <th>recurrent</th>\n      <th>cost_for_call</th>\n      <th>cost_for_sms</th>\n      <th>cost_for_data</th>\n      <th>allowance_sms</th>\n      <th>allowance_voice</th>\n      <th>allowance_data</th>\n      <th>duration</th>\n      <th>cumulative_charge</th>\n    </tr>\n    <tr>\n      <th>id</th>\n      <th></th>\n      <th></th>\n      <th></th>\n      <th></th>\n      <th></th>\n      <th></th>\n      <th></th>\n      <th></th>\n      <th></th>\n      <th></th>\n      <th></th>\n      <th></th>\n    </tr>\n  </thead>\n  <tbody>\n    <tr>\n      <th>0</th>\n      <td>30</td>\n      <td>prepaid</td>\n      <td>tariff</td>\n      <td>True</td>\n      <td>0.55</td>\n      <td>0.25</td>\n      <td>0.002</td>\n      <td>0</td>\n      <td>200</td>\n      <td>1.000000e+09</td>\n      <td>30</td>\n      <td>34.50</td>\n    </tr>\n    <tr>\n      <th>1</th>\n      <td>share</td>\n      <td>prepaid</td>\n      <td>tariff</td>\n      <td>True</td>\n      <td>0.55</td>\n      <td>0.25</td>\n      <td>0.002</td>\n      <td>0</td>\n      <td>9223372036854775807</td>\n      <td>1.000000e+10</td>\n      <td>30</td>\n      <td>126.50</td>\n    </tr>\n    <tr>\n      <th>2</th>\n      <td>star</td>\n      <td>prepaid</td>\n      <td>tariff</td>\n      <td>True</td>\n      <td>0.55</td>\n      <td>0.25</td>\n      <td>0.002</td>\n      <td>0</td>\n      <td>9223372036854775807</td>\n      <td>1.000000e+11</td>\n      <td>30</td>\n      <td>253.00</td>\n    </tr>\n    <tr>\n      <th>3</th>\n      <td>unlimited_data_month</td>\n      <td>prepaid</td>\n      <td>tariff</td>\n      <td>False</td>\n      <td>0.00</td>\n      <td>0.00</td>\n      <td>0.000</td>\n      <td>0</td>\n      <td>0</td>\n      <td>1.000000e+13</td>\n      <td>30</td>\n      <td>391.00</td>\n    </tr>\n    <tr>\n      <th>4</th>\n      <td>unlimited_data_3months</td>\n      <td>prepaid</td>\n      <td>tariff</td>\n      <td>False</td>\n      <td>0.00</td>\n      <td>0.00</td>\n      <td>0.000</td>\n      <td>0</td>\n      <td>0</td>\n      <td>1.000000e+13</td>\n      <td>90</td>\n      <td>1121.25</td>\n    </tr>\n  </tbody>\n</table>\n</div>"
     },
     "execution_count": 3,
     "metadata": {},
     "output_type": "execute_result"
    }
   ],
   "source": [
    "products = pd.read_csv('../Product/products.csv').set_index('id')\n",
    "products.head()"
   ],
   "metadata": {
    "collapsed": false,
    "pycharm": {
     "name": "#%%\n"
    }
   }
  },
  {
   "cell_type": "code",
   "execution_count": 4,
   "outputs": [
    {
     "name": "stdout",
     "output_type": "stream",
     "text": [
      "Unnamed: 0          10000\n",
      "Gender              10000\n",
      "First name           9828\n",
      "Last name           10000\n",
      "Date_of_birth       10000\n",
      "Agree_for_promo     10000\n",
      "autoplay_card       10000\n",
      "Customer_Email      10000\n",
      "MSISDN              10000\n",
      "Status              10000\n",
      "Category            10000\n",
      "Customer_Since      10000\n",
      "Region              10000\n",
      "Language            10000\n",
      "termination_date        0\n",
      "dtype: int64\n"
     ]
    },
    {
     "data": {
      "text/plain": "             Unnamed: 0  Gender     First name Last name Date_of_birth  \\\nCustomer_ID                                                              \n3540                  0    Male  Ghiyathal-Din   Nakouzi    1964-02-06   \n1857                  1  Female          Sahar   Hussein    1981-04-27   \n5670                  2    Male          Fahri     Yasin    1986-06-11   \n636                   3  Female           Lara  Kaddouri    1978-12-24   \n580                   4    Male      Samiullah    Burhan    1988-04-18   \n\n            Agree_for_promo autoplay_card  \\\nCustomer_ID                                 \n3540                     No            No   \n1857                     No           Yes   \n5670                    Yes            No   \n636                     Yes            No   \n580                      No            No   \n\n                                  Customer_Email           MSISDN    Status  \\\nCustomer_ID                                                                   \n3540           Ghiyathal-DinNakouzi80@sps.net.sa  +996-55-7681323  Inactive   \n1857                   SaharHussein93@awalnet.sa  +996-53-0529684  Inactive   \n5670                  FahriYasin95@sahara.com.sa  +996-54-8094324    Active   \n636                    LaraKaddouri55@sps.net.sa  +996-53-1491482    Active   \n580          SamiullahBurhan34@saudia-omline.com  +996-58-0276241  Inactive   \n\n             Category Customer_Since   Region Language  termination_date  \nCustomer_ID                                                               \n3540         Physical     1993-10-17   Riyadh   Arabic               NaN  \n1857         Physical     2002-02-17    Mecca   Arabic               NaN  \n5670         Physical     2021-01-09   Riyadh   Arabic               NaN  \n636          Business     2007-12-16  Eastern   Arabic               NaN  \n580          Business     2017-05-06    Mecca   Arabic               NaN  ",
      "text/html": "<div>\n<style scoped>\n    .dataframe tbody tr th:only-of-type {\n        vertical-align: middle;\n    }\n\n    .dataframe tbody tr th {\n        vertical-align: top;\n    }\n\n    .dataframe thead th {\n        text-align: right;\n    }\n</style>\n<table border=\"1\" class=\"dataframe\">\n  <thead>\n    <tr style=\"text-align: right;\">\n      <th></th>\n      <th>Unnamed: 0</th>\n      <th>Gender</th>\n      <th>First name</th>\n      <th>Last name</th>\n      <th>Date_of_birth</th>\n      <th>Agree_for_promo</th>\n      <th>autoplay_card</th>\n      <th>Customer_Email</th>\n      <th>MSISDN</th>\n      <th>Status</th>\n      <th>Category</th>\n      <th>Customer_Since</th>\n      <th>Region</th>\n      <th>Language</th>\n      <th>termination_date</th>\n    </tr>\n    <tr>\n      <th>Customer_ID</th>\n      <th></th>\n      <th></th>\n      <th></th>\n      <th></th>\n      <th></th>\n      <th></th>\n      <th></th>\n      <th></th>\n      <th></th>\n      <th></th>\n      <th></th>\n      <th></th>\n      <th></th>\n      <th></th>\n      <th></th>\n    </tr>\n  </thead>\n  <tbody>\n    <tr>\n      <th>3540</th>\n      <td>0</td>\n      <td>Male</td>\n      <td>Ghiyathal-Din</td>\n      <td>Nakouzi</td>\n      <td>1964-02-06</td>\n      <td>No</td>\n      <td>No</td>\n      <td>Ghiyathal-DinNakouzi80@sps.net.sa</td>\n      <td>+996-55-7681323</td>\n      <td>Inactive</td>\n      <td>Physical</td>\n      <td>1993-10-17</td>\n      <td>Riyadh</td>\n      <td>Arabic</td>\n      <td>NaN</td>\n    </tr>\n    <tr>\n      <th>1857</th>\n      <td>1</td>\n      <td>Female</td>\n      <td>Sahar</td>\n      <td>Hussein</td>\n      <td>1981-04-27</td>\n      <td>No</td>\n      <td>Yes</td>\n      <td>SaharHussein93@awalnet.sa</td>\n      <td>+996-53-0529684</td>\n      <td>Inactive</td>\n      <td>Physical</td>\n      <td>2002-02-17</td>\n      <td>Mecca</td>\n      <td>Arabic</td>\n      <td>NaN</td>\n    </tr>\n    <tr>\n      <th>5670</th>\n      <td>2</td>\n      <td>Male</td>\n      <td>Fahri</td>\n      <td>Yasin</td>\n      <td>1986-06-11</td>\n      <td>Yes</td>\n      <td>No</td>\n      <td>FahriYasin95@sahara.com.sa</td>\n      <td>+996-54-8094324</td>\n      <td>Active</td>\n      <td>Physical</td>\n      <td>2021-01-09</td>\n      <td>Riyadh</td>\n      <td>Arabic</td>\n      <td>NaN</td>\n    </tr>\n    <tr>\n      <th>636</th>\n      <td>3</td>\n      <td>Female</td>\n      <td>Lara</td>\n      <td>Kaddouri</td>\n      <td>1978-12-24</td>\n      <td>Yes</td>\n      <td>No</td>\n      <td>LaraKaddouri55@sps.net.sa</td>\n      <td>+996-53-1491482</td>\n      <td>Active</td>\n      <td>Business</td>\n      <td>2007-12-16</td>\n      <td>Eastern</td>\n      <td>Arabic</td>\n      <td>NaN</td>\n    </tr>\n    <tr>\n      <th>580</th>\n      <td>4</td>\n      <td>Male</td>\n      <td>Samiullah</td>\n      <td>Burhan</td>\n      <td>1988-04-18</td>\n      <td>No</td>\n      <td>No</td>\n      <td>SamiullahBurhan34@saudia-omline.com</td>\n      <td>+996-58-0276241</td>\n      <td>Inactive</td>\n      <td>Business</td>\n      <td>2017-05-06</td>\n      <td>Mecca</td>\n      <td>Arabic</td>\n      <td>NaN</td>\n    </tr>\n  </tbody>\n</table>\n</div>"
     },
     "execution_count": 4,
     "metadata": {},
     "output_type": "execute_result"
    }
   ],
   "source": [
    "customers = pd.read_csv('../Customer/Customers.csv').set_index('Customer_ID')\n",
    "print(customers.count())\n",
    "customers.head()"
   ],
   "metadata": {
    "collapsed": false,
    "pycharm": {
     "name": "#%%\n"
    }
   }
  },
  {
   "cell_type": "code",
   "execution_count": 5,
   "outputs": [],
   "source": [
    "# https://worldpopulationreview.com/countries/saudi-arabia-population\n",
    "population = 35678883\n",
    "female_percent = 42.6\n",
    "male_percent = 57.4\n",
    "# government stats https://www.stats.gov.sa/en/5305\n",
    "below_20_total = (2674932 + 2771032 + 2428319 + 2216050) / 31787580\n",
    "below_20_saudis_only = (2137185 + 2088919 + 1869325 + 1761027) / 20081582\n",
    "\n",
    "# https://www.gsma.com/publicpolicy/wp-content/uploads/2012/03/GSMA_ChildrensMobilePhones2013WEB.pdf\n",
    "children_with_smartphones = 70.5\n",
    "children_with_phones = 87.0\n",
    "children_used_phone_once = 6.7\n",
    "\n",
    "# https://www.itu.int/en/ITU-D/Regional-Presence/ArabStates/Documents/events/2018/Women/GSMA%20Connected%20Women%20Gender%20Gap%20Report%202018%20-%20Oliver%20Rowntree.pdf\n",
    "gender_gap_facebook = 70.0\n",
    "# https://www.mckinsey.com/~/media/mckinsey/industries/technology%20media%20and%20telecommunications/telecommunications/our%20insights/winning%20the%20rush%20for%20data%20services%20in%20the%20middle%20east%20and%20africa/telecommunications%20industry%20at%20cliffs%20edge%20time%20for%20bold%20decisions_june2016.pdf\n",
    "# Saudi Arabia has world’s highest rate of YouTube subscribers"
   ],
   "metadata": {
    "collapsed": false,
    "pycharm": {
     "name": "#%%\n"
    }
   }
  },
  {
   "cell_type": "code",
   "execution_count": 6,
   "outputs": [],
   "source": [
    "# https://datareportal.com/reports/digital-2021-saudi-arabia\n",
    "connections_per_user = 1.127\n",
    "total_connections = connections_per_user * population\n",
    "\n",
    "# Gender gap calculation: https://www.gsma.com/mobilefordevelopment/wp-content/uploads/2018/04/GSMA_The_Mobile_Gender_Gap_Report_2018_32pp_WEBv7.pdf\n",
    "mt = (population * male_percent / 100)\n",
    "ft = (population * female_percent / 100)\n",
    "\n",
    "\n",
    "mu = population / (1 + 0.76 * ft / mt)\n",
    "fu = 0.76 * ft * mu / mt\n",
    "\n",
    "female_connections = fu\n",
    "male_connections = total_connections - female_connections\n",
    "male_connections_percent = male_connections / total_connections\n",
    "female_connections_percent = female_connections / total_connections\n",
    "\n",
    "# https://theinclusiveinternet.eiu.com/explore/countries/SA/performance/indicators/affordability/competitive-environment/average-revenue-per-user-arpu-annualized\n",
    "annual_ARPU_in_dollars = 332\n",
    "saudi_riyal_to_dollars = 0.27\n",
    "# monthly expenditure\n",
    "mean_national_expenditure = annual_ARPU_in_dollars / 12 / saudi_riyal_to_dollars\n",
    "\n",
    "customers_number = customers.count()[0]\n",
    "# customers_number = 10000\n",
    "sample_connections = customers_number * connections_per_user\n",
    "male_size = int(sample_connections * male_connections_percent)\n",
    "female_size = int(sample_connections * female_connections_percent)\n",
    "\n",
    "# This value help the histogram look like th\n",
    "std = mean_national_expenditure * 0.572\n",
    "\n",
    "\n",
    "# the distribution of household expenditure for mobile phones: https://slideplayer.com/slide/17640605/\n",
    "# 50, 70, 1.3, 2 – coefficients that worked well so that the histogram looks similar to the known histogram and the mean is about the same as the known mean value\n",
    "# For more diverse range values, most primary belonging to men as they have many more jobs and much more income\n",
    "male_coef = int(customers_number * 0.1)\n",
    "\n",
    "male_expenditures = rayleigh.rvs(loc=mean_national_expenditure-50, scale=std/1.3, size=male_size - male_coef)\n",
    "female_expenditures = rayleigh.rvs(loc=mean_national_expenditure-70, scale=std/2, size=female_size)\n",
    "third_part_1 = np.random.uniform(size=int(0.45 * male_coef), low=34.5, high=650)\n",
    "third_part_2 = np.random.uniform(size=int(0.05 * male_coef), low=650, high=1200)\n",
    "fourth_part = norm.rvs(size=int(0.5 * male_coef), loc=mean_national_expenditure-60, scale=15)\n",
    "male_expenditures = np.concatenate([male_expenditures, third_part_1, third_part_2, fourth_part])\n",
    "\n",
    "male_expenditures[male_expenditures < 34.5] = 34.5\n",
    "female_expenditures[female_expenditures < 34.5] = 34.5\n",
    "total_expenditure = np.concatenate([male_expenditures, female_expenditures])\n",
    "np.random.shuffle(total_expenditure)"
   ],
   "metadata": {
    "collapsed": false,
    "pycharm": {
     "name": "#%%\n"
    }
   }
  },
  {
   "cell_type": "code",
   "execution_count": 7,
   "outputs": [
    {
     "name": "stdout",
     "output_type": "stream",
     "text": [
      "102.46913580246914\n",
      "106.10675165122002\n",
      "11269\n",
      "7663 3606 11269\n",
      "1.0\n"
     ]
    }
   ],
   "source": [
    "# A quick check with the known mean\n",
    "print(mean_national_expenditure)\n",
    "print(np.mean(total_expenditure))\n",
    "print(len(total_expenditure))\n",
    "print(male_size, female_size, male_size + female_size)\n",
    "print(male_connections_percent + female_connections_percent)"
   ],
   "metadata": {
    "collapsed": false,
    "pycharm": {
     "name": "#%%\n"
    }
   }
  },
  {
   "cell_type": "code",
   "execution_count": 8,
   "outputs": [
    {
     "name": "stdout",
     "output_type": "stream",
     "text": [
      "Freedman–Diaconis number of bins: 257\n"
     ]
    },
    {
     "data": {
      "text/plain": "(array([286., 214., 270., 355., 357., 440., 463., 583., 588., 581., 574.,\n        563., 551., 497., 455., 428., 472., 429., 358., 355., 307., 272.,\n        243., 225., 181., 160., 128.,  99.,  93.,  81.,  76.,  43.,  47.,\n         27.,  22.,  22.,   8.,   9.,  10.,  12.,  13.,   5.,   9.,   2.,\n          7.,   6.,   2.,   2.,   4.,   4.,   3.,   6.,   2.,   4.,   4.,\n          4.,   2.,   2.,   4.,   4.,   3.,   5.,   3.,   2.,   3.,   0.,\n          2.,   3.,   4.,   4.,   1.,   5.,   4.,   5.,   2.,   2.,   0.,\n          2.,   2.,   3.,   5.,   5.,   1.,   1.,   5.,   2.,   2.,   2.,\n          3.,   1.,   9.,   3.,   1.,   2.,   2.,   2.,   2.,   6.,   5.,\n          2.,   4.,   7.,   3.,   3.,   3.,   3.,   1.,   3.,   6.,   4.,\n          5.,   2.,   4.,   3.,   2.,   2.,   3.,   2.,   3.,   3.,   1.,\n          5.,   0.,   4.,   4.,   0.,   5.,   2.,   6.,   1.,   3.,   3.,\n          2.,   4.,   3.,   5.,   5.,   5.,   3.,   4.,   0.,   0.,   0.,\n          1.,   1.,   0.,   1.,   0.,   0.,   0.,   0.,   0.,   0.,   0.,\n          1.,   1.,   0.,   0.,   0.,   1.,   0.,   1.,   0.,   0.,   0.,\n          1.,   0.,   0.,   4.,   0.,   0.,   1.,   3.,   0.,   1.,   1.,\n          0.,   0.,   0.,   1.,   0.,   0.,   1.,   0.,   0.,   0.,   0.,\n          1.,   0.,   0.,   1.,   0.,   0.,   0.,   0.,   0.,   0.,   0.,\n          0.,   0.,   0.,   0.,   1.,   1.,   0.,   0.,   0.,   2.,   0.,\n          0.,   0.,   1.,   1.,   0.,   1.,   0.,   0.,   0.,   1.,   0.,\n          0.,   1.,   1.,   0.,   0.,   0.,   3.,   0.,   0.,   0.,   0.,\n          0.,   0.,   1.,   0.,   1.,   0.,   0.,   0.,   0.,   1.,   1.,\n          0.,   0.,   2.,   0.,   1.,   0.,   0.,   0.,   1.,   0.,   2.,\n          0.,   1.,   1.,   2.]),\n array([  34.5       ,   38.90098154,   43.30196307,   47.70294461,\n          52.10392615,   56.50490768,   60.90588922,   65.30687076,\n          69.70785229,   74.10883383,   78.50981537,   82.91079691,\n          87.31177844,   91.71275998,   96.11374152,  100.51472305,\n         104.91570459,  109.31668613,  113.71766766,  118.1186492 ,\n         122.51963074,  126.92061227,  131.32159381,  135.72257535,\n         140.12355688,  144.52453842,  148.92551996,  153.32650149,\n         157.72748303,  162.12846457,  166.52944611,  170.93042764,\n         175.33140918,  179.73239072,  184.13337225,  188.53435379,\n         192.93533533,  197.33631686,  201.7372984 ,  206.13827994,\n         210.53926147,  214.94024301,  219.34122455,  223.74220608,\n         228.14318762,  232.54416916,  236.94515069,  241.34613223,\n         245.74711377,  250.14809531,  254.54907684,  258.95005838,\n         263.35103992,  267.75202145,  272.15300299,  276.55398453,\n         280.95496606,  285.3559476 ,  289.75692914,  294.15791067,\n         298.55889221,  302.95987375,  307.36085528,  311.76183682,\n         316.16281836,  320.56379989,  324.96478143,  329.36576297,\n         333.76674451,  338.16772604,  342.56870758,  346.96968912,\n         351.37067065,  355.77165219,  360.17263373,  364.57361526,\n         368.9745968 ,  373.37557834,  377.77655987,  382.17754141,\n         386.57852295,  390.97950448,  395.38048602,  399.78146756,\n         404.18244909,  408.58343063,  412.98441217,  417.38539371,\n         421.78637524,  426.18735678,  430.58833832,  434.98931985,\n         439.39030139,  443.79128293,  448.19226446,  452.593246  ,\n         456.99422754,  461.39520907,  465.79619061,  470.19717215,\n         474.59815368,  478.99913522,  483.40011676,  487.80109829,\n         492.20207983,  496.60306137,  501.00404291,  505.40502444,\n         509.80600598,  514.20698752,  518.60796905,  523.00895059,\n         527.40993213,  531.81091366,  536.2118952 ,  540.61287674,\n         545.01385827,  549.41483981,  553.81582135,  558.21680288,\n         562.61778442,  567.01876596,  571.41974749,  575.82072903,\n         580.22171057,  584.62269211,  589.02367364,  593.42465518,\n         597.82563672,  602.22661825,  606.62759979,  611.02858133,\n         615.42956286,  619.8305444 ,  624.23152594,  628.63250747,\n         633.03348901,  637.43447055,  641.83545208,  646.23643362,\n         650.63741516,  655.03839669,  659.43937823,  663.84035977,\n         668.24134131,  672.64232284,  677.04330438,  681.44428592,\n         685.84526745,  690.24624899,  694.64723053,  699.04821206,\n         703.4491936 ,  707.85017514,  712.25115667,  716.65213821,\n         721.05311975,  725.45410128,  729.85508282,  734.25606436,\n         738.65704589,  743.05802743,  747.45900897,  751.85999051,\n         756.26097204,  760.66195358,  765.06293512,  769.46391665,\n         773.86489819,  778.26587973,  782.66686126,  787.0678428 ,\n         791.46882434,  795.86980587,  800.27078741,  804.67176895,\n         809.07275048,  813.47373202,  817.87471356,  822.27569509,\n         826.67667663,  831.07765817,  835.47863971,  839.87962124,\n         844.28060278,  848.68158432,  853.08256585,  857.48354739,\n         861.88452893,  866.28551046,  870.686492  ,  875.08747354,\n         879.48845507,  883.88943661,  888.29041815,  892.69139968,\n         897.09238122,  901.49336276,  905.89434429,  910.29532583,\n         914.69630737,  919.09728891,  923.49827044,  927.89925198,\n         932.30023352,  936.70121505,  941.10219659,  945.50317813,\n         949.90415966,  954.3051412 ,  958.70612274,  963.10710427,\n         967.50808581,  971.90906735,  976.31004888,  980.71103042,\n         985.11201196,  989.51299349,  993.91397503,  998.31495657,\n        1002.71593811, 1007.11691964, 1011.51790118, 1015.91888272,\n        1020.31986425, 1024.72084579, 1029.12182733, 1033.52280886,\n        1037.9237904 , 1042.32477194, 1046.72575347, 1051.12673501,\n        1055.52771655, 1059.92869808, 1064.32967962, 1068.73066116,\n        1073.1316427 , 1077.53262423, 1081.93360577, 1086.33458731,\n        1090.73556884, 1095.13655038, 1099.53753192, 1103.93851345,\n        1108.33949499, 1112.74047653, 1117.14145806, 1121.5424396 ,\n        1125.94342114, 1130.34440267, 1134.74538421, 1139.14636575,\n        1143.54734728, 1147.94832882, 1152.34931036, 1156.7502919 ,\n        1161.15127343, 1165.55225497]),\n <BarContainer object of 257 artists>)"
     },
     "execution_count": 8,
     "metadata": {},
     "output_type": "execute_result"
    },
    {
     "data": {
      "text/plain": "<Figure size 432x288 with 1 Axes>",
      "image/png": "[encoded data removed]"
     },
     "metadata": {
      "needs_background": "light"
     },
     "output_type": "display_data"
    }
   ],
   "source": [
    "# calculate the number of bins\n",
    "def find_bins_number(ndarr):\n",
    "    q25, q75 = np.percentile(ndarr, [25, 75])\n",
    "    bin_width = 2 * (q75 - q25) * len(ndarr) ** (-1/3)\n",
    "    bins = round((ndarr.max() - ndarr.min()) / bin_width)\n",
    "    print(\"Freedman–Diaconis number of bins:\", bins)\n",
    "    return bins\n",
    "\n",
    "# plot\n",
    "bins = find_bins_number(total_expenditure)\n",
    "plt.hist(total_expenditure, bins=bins)"
   ],
   "metadata": {
    "collapsed": false,
    "pycharm": {
     "name": "#%%\n"
    }
   }
  },
  {
   "cell_type": "code",
   "execution_count": 9,
   "outputs": [
    {
     "data": {
      "text/plain": "<seaborn.axisgrid.FacetGrid at 0x7f863e603280>"
     },
     "execution_count": 9,
     "metadata": {},
     "output_type": "execute_result"
    },
    {
     "data": {
      "text/plain": "<Figure size 360x360 with 1 Axes>",
      "image/png": "[encoded data removed]"
     },
     "metadata": {
      "needs_background": "light"
     },
     "output_type": "display_data"
    }
   ],
   "source": [
    "# probability plot\n",
    "sns.displot(total_expenditure[total_expenditure <= 1200], stat='probability', bins=50)"
   ],
   "metadata": {
    "collapsed": false,
    "pycharm": {
     "name": "#%%\n"
    }
   }
  },
  {
   "cell_type": "code",
   "execution_count": 10,
   "outputs": [
    {
     "name": "stdout",
     "output_type": "stream",
     "text": [
      "11269 11269\n"
     ]
    },
    {
     "data": {
      "text/plain": "   id gender  expenditure  tariff_id\n0   0   male   111.303622         -1\n1   1   male   108.100442         -1\n2   2   male   108.195533         -1\n3   3   male   165.560956         -1\n4   4   male    85.952714         -1",
      "text/html": "<div>\n<style scoped>\n    .dataframe tbody tr th:only-of-type {\n        vertical-align: middle;\n    }\n\n    .dataframe tbody tr th {\n        vertical-align: top;\n    }\n\n    .dataframe thead th {\n        text-align: right;\n    }\n</style>\n<table border=\"1\" class=\"dataframe\">\n  <thead>\n    <tr style=\"text-align: right;\">\n      <th></th>\n      <th>id</th>\n      <th>gender</th>\n      <th>expenditure</th>\n      <th>tariff_id</th>\n    </tr>\n  </thead>\n  <tbody>\n    <tr>\n      <th>0</th>\n      <td>0</td>\n      <td>male</td>\n      <td>111.303622</td>\n      <td>-1</td>\n    </tr>\n    <tr>\n      <th>1</th>\n      <td>1</td>\n      <td>male</td>\n      <td>108.100442</td>\n      <td>-1</td>\n    </tr>\n    <tr>\n      <th>2</th>\n      <td>2</td>\n      <td>male</td>\n      <td>108.195533</td>\n      <td>-1</td>\n    </tr>\n    <tr>\n      <th>3</th>\n      <td>3</td>\n      <td>male</td>\n      <td>165.560956</td>\n      <td>-1</td>\n    </tr>\n    <tr>\n      <th>4</th>\n      <td>4</td>\n      <td>male</td>\n      <td>85.952714</td>\n      <td>-1</td>\n    </tr>\n  </tbody>\n</table>\n</div>"
     },
     "execution_count": 10,
     "metadata": {},
     "output_type": "execute_result"
    }
   ],
   "source": [
    "# The start of DataFrame creation\n",
    "ids = np.arange(len(total_expenditure))\n",
    "gender = np.hstack((np.array(['male'] * male_size), np.array(['female'] * female_size)))\n",
    "expenditures = np.hstack((male_expenditures, female_expenditures))\n",
    "tariff = np.array([-1] * len(total_expenditure))\n",
    "\n",
    "print(len(gender), len(expenditures))\n",
    "table = pd.DataFrame({'id': ids, 'gender': gender, 'expenditure': expenditures, 'tariff_id': tariff})\n",
    "table.head()"
   ],
   "metadata": {
    "collapsed": false,
    "pycharm": {
     "name": "#%%\n"
    }
   }
  },
  {
   "cell_type": "code",
   "execution_count": 11,
   "outputs": [
    {
     "name": "stdout",
     "output_type": "stream",
     "text": [
      "[1525, 159, 139, 86, 203, 69, 4]\n"
     ]
    }
   ],
   "source": [
    "# Data-only sims assignment\n",
    "# https://www.refworld.org/pdfid/502a0c51a.pdf\n",
    "data_only_subscriptions = 7.8 * 10 ** 6\n",
    "data_only_subscriptions_percent = data_only_subscriptions / total_connections\n",
    "data_only_in_dataset = int(len(total_expenditure) * data_only_subscriptions_percent)\n",
    "\n",
    "# Generate frequency of different data-only plans by gilbrat distribution\n",
    "s = gilbrat.rvs(loc=mean_national_expenditure-50, scale=60, size=data_only_in_dataset)\n",
    "s_len = len(s)\n",
    "\n",
    "\n",
    "data_ids = [5, 7, 6, 8, 3, 4]\n",
    "data_only_prices = [148, 171, 201, 230, 391, 1121]\n",
    "\n",
    "\n",
    "lengths = []\n",
    "lengths.append(len(s[s < data_only_prices[0]]))\n",
    "for i in range(len(data_only_prices) - 1):\n",
    "    lengths.append(len(s[(s >= data_only_prices[i]) & (s < data_only_prices[i + 1])]))\n",
    "lengths.append(len(s[s >= data_only_prices[-1]]))\n",
    "print(lengths)\n",
    "\n",
    "# Finally, assignment\n",
    "table=table.sort_values(by=['expenditure']).reset_index(drop=True)\n",
    "table.iloc[-lengths[-1]:, 3] = data_ids[-1]\n",
    "table.iloc[-lengths[-1]:, 2] = data_only_prices[-1]\n",
    "\n",
    "for data_id, data_price, length in (list(zip(data_ids, data_only_prices, lengths))[-2::-1]):\n",
    "    # print(data_id, data_price, length)\n",
    "    # df = \\\n",
    "    condition_1 = table['expenditure'] <= data_price\n",
    "    ind = table[table['expenditure'] <= data_price].index[-1]\n",
    "    condition_2 = table.index <= ind\n",
    "    cond_3 = ind - length < table.index\n",
    "    table.iloc[(condition_1 & condition_2 & cond_3).values, 3] = data_id\n",
    "    table.iloc[(condition_1 & condition_2 & cond_3).values, 2] = data_price"
   ],
   "metadata": {
    "collapsed": false,
    "pycharm": {
     "name": "#%%\n"
    }
   }
  },
  {
   "cell_type": "code",
   "execution_count": 12,
   "outputs": [
    {
     "name": "stdout",
     "output_type": "stream",
     "text": [
      "id             2116\n",
      "gender         2116\n",
      "expenditure    2116\n",
      "tariff_id      2116\n",
      "dtype: int64\n",
      "2185\n",
      "id             11269\n",
      "gender         11269\n",
      "expenditure    11269\n",
      "tariff_id      11269\n",
      "dtype: int64\n"
     ]
    }
   ],
   "source": [
    "print(table[table.tariff_id != -1].count())\n",
    "print(data_only_in_dataset)\n",
    "print(table.count())"
   ],
   "metadata": {
    "collapsed": false,
    "pycharm": {
     "name": "#%%\n"
    }
   }
  },
  {
   "cell_type": "code",
   "execution_count": 13,
   "outputs": [
    {
     "name": "stdout",
     "output_type": "stream",
     "text": [
      "id             0\n",
      "gender         0\n",
      "expenditure    0\n",
      "tariff_id      0\n",
      "dtype: int64\n"
     ]
    }
   ],
   "source": [
    "# Prepaid/postpaid tariffs assignment\n",
    "# Frequences according to the graph\n",
    "prepaid_subscriptions_f = 0.75\n",
    "postpaid_subscriptions_f = 0.25\n",
    "\n",
    "# https://data.worldbank.org/indicator/SL.TLF.TOTL.FE.ZS?locations=SA\n",
    "# male_labor_force = 0.79124\n",
    "# female_labor_force = 0.20876\n",
    "\n",
    "# Since there is no way to know the rate of postpaid among genders/age groups, etc, the postpaid are given out randomly\n",
    "# indexes are chosen arbitrarily\n",
    "df = table[(table['expenditure'] >= 80.5) & (table['tariff_id'] == -1)]\n",
    "postpaid_num_1 = random.sample(list(df.index), int(df.count()[0] * postpaid_subscriptions_f * 0.95))\n",
    "table.iloc[[postpaid_num_1], 3] = 24\n",
    "\n",
    "df2 = table[(table['expenditure'] >= 571.5) & (table['tariff_id'] == -1)]\n",
    "postpaid_num_2 = random.sample(list(df2.index), int(df.count()[0] * postpaid_subscriptions_f * 0.05))\n",
    "table.iloc[[postpaid_num_2], 3] = 25\n",
    "\n",
    "# df3 = table[(table['expenditure'] >= 253.0) & (table['tariff_id'] == -1)]\n",
    "\n",
    "table.iloc[((table['expenditure'] >= 126.5) & (table['tariff_id'] == -1)).values, 3] = 1\n",
    "table.iloc[((table['expenditure'] >= 253.0) & (table['tariff_id'] == -1)).values, 3] = 2\n",
    "table.iloc[(table['tariff_id'] == -1).values, 3] = 0\n",
    "print(table[table.tariff_id == -1].count())"
   ],
   "metadata": {
    "collapsed": false,
    "pycharm": {
     "name": "#%%\n"
    }
   }
  },
  {
   "cell_type": "code",
   "execution_count": 14,
   "outputs": [
    {
     "name": "stderr",
     "output_type": "stream",
     "text": [
      "/Library/Frameworks/Python.framework/Versions/3.9/lib/python3.9/site-packages/pandas/core/arrays/datetimelike.py:1187: PerformanceWarning: Adding/subtracting object-dtype array to DatetimeArray not vectorized\n",
      "  warnings.warn(\n"
     ]
    },
    {
     "data": {
      "text/plain": "   customer_id  product_id  expenditure activation_date     termination_date  \\\n0            3           1   152.465445      2022-02-27  2022-11-13 00:00:00   \n1           14           5   148.000000      2022-02-11  2022-03-13 00:00:00   \n2           39           5   148.000000      2022-02-23  2022-03-25 00:00:00   \n3           50           5   148.000000      2022-02-03  2022-03-05 00:00:00   \n4           58           5   148.000000      2022-02-01  2022-03-03 00:00:00   \n\n  distribution_channel  status  \n0       physical_store  active  \n1       physical_store  active  \n2       physical_store  active  \n3       physical_store  active  \n4       physical_store  active  ",
      "text/html": "<div>\n<style scoped>\n    .dataframe tbody tr th:only-of-type {\n        vertical-align: middle;\n    }\n\n    .dataframe tbody tr th {\n        vertical-align: top;\n    }\n\n    .dataframe thead th {\n        text-align: right;\n    }\n</style>\n<table border=\"1\" class=\"dataframe\">\n  <thead>\n    <tr style=\"text-align: right;\">\n      <th></th>\n      <th>customer_id</th>\n      <th>product_id</th>\n      <th>expenditure</th>\n      <th>activation_date</th>\n      <th>termination_date</th>\n      <th>distribution_channel</th>\n      <th>status</th>\n    </tr>\n  </thead>\n  <tbody>\n    <tr>\n      <th>0</th>\n      <td>3</td>\n      <td>1</td>\n      <td>152.465445</td>\n      <td>2022-02-27</td>\n      <td>2022-11-13 00:00:00</td>\n      <td>physical_store</td>\n      <td>active</td>\n    </tr>\n    <tr>\n      <th>1</th>\n      <td>14</td>\n      <td>5</td>\n      <td>148.000000</td>\n      <td>2022-02-11</td>\n      <td>2022-03-13 00:00:00</td>\n      <td>physical_store</td>\n      <td>active</td>\n    </tr>\n    <tr>\n      <th>2</th>\n      <td>39</td>\n      <td>5</td>\n      <td>148.000000</td>\n      <td>2022-02-23</td>\n      <td>2022-03-25 00:00:00</td>\n      <td>physical_store</td>\n      <td>active</td>\n    </tr>\n    <tr>\n      <th>3</th>\n      <td>50</td>\n      <td>5</td>\n      <td>148.000000</td>\n      <td>2022-02-03</td>\n      <td>2022-03-05 00:00:00</td>\n      <td>physical_store</td>\n      <td>active</td>\n    </tr>\n    <tr>\n      <th>4</th>\n      <td>58</td>\n      <td>5</td>\n      <td>148.000000</td>\n      <td>2022-02-01</td>\n      <td>2022-03-03 00:00:00</td>\n      <td>physical_store</td>\n      <td>active</td>\n    </tr>\n  </tbody>\n</table>\n</div>"
     },
     "execution_count": 14,
     "metadata": {},
     "output_type": "execute_result"
    }
   ],
   "source": [
    "# PRODUCT INSTANCE CREATION\n",
    "# This is used for the situation when the customers table is not fully formed\n",
    "# customers_0 = customers.copy()\n",
    "# for i in range(199):\n",
    "#     customers_0 = pd.concat([customers_0, customers.copy()], axis=0)\n",
    "# customers_2 = customers_0.sort_values(by=['Gender', 'Category']).reset_index(drop=True)\n",
    "\n",
    "customers_2 = customers.sort_values(by=['Gender', 'Category']).reset_index(drop=True)\n",
    "table_2 = table.sort_values(by=['gender', 'expenditure'], ascending=[True, False]).reset_index(drop=True)\n",
    "\n",
    "product_instances_1 = pd.DataFrame({\n",
    "    'customer_id': customers_2['Unnamed: 0'],\n",
    "    'product_id': table_2.iloc[:customers_2.count()[0], 3],\n",
    "    'expenditure': table_2.iloc[:customers_2.count()[0], 2]\n",
    "})\n",
    "\n",
    "# using males from the end\n",
    "start_index = table_2.count()[0] - customers_2.count()[0]\n",
    "product_instances_2 = pd.DataFrame({\n",
    "    'customer_id': customers_2.iloc[-start_index:, 0].values,\n",
    "    'product_id': table_2.iloc[customers_2.count()[0]:, 3],\n",
    "    'expenditure': table_2.iloc[customers_2.count()[0]:, 2]\n",
    "})\n",
    "product_instances = pd.concat([product_instances_1, product_instances_2], axis=0)\n",
    "\n",
    "# Activation date\n",
    "def str_time_prop(start, end, time_format, prop):\n",
    "    stime = time.mktime(time.strptime(start, time_format))\n",
    "    etime = time.mktime(time.strptime(end, time_format))\n",
    "    ptime = stime + prop * (etime - stime)\n",
    "    return time.strftime(time_format, time.localtime(ptime))\n",
    "\n",
    "def random_date(start, end, prop):\n",
    "    return str_time_prop(start, end, '%Y-%m-%d', prop)\n",
    "\n",
    "dates = []\n",
    "for _ in range(product_instances.count()[0]):\n",
    "    dates.append(random_date(\"2022-02-01\", \"2022-02-28\", random.random()))\n",
    "product_instances['activation_date'] = pd.Series(dates)\n",
    "\n",
    "# Termination date\n",
    "product_instances['termination_date'] = np.nan\n",
    "not_recurrent = products[(products['recurrent'] == False) & (products['duration'] == 30)]\n",
    "product_instances.iloc[product_instances['product_id'].isin(not_recurrent.index).values, 4] = pd.to_datetime(product_instances.iloc[product_instances['product_id'].isin(not_recurrent.index).values, 3]) + pd.DateOffset(days=30)\n",
    "\n",
    "not_recurrent = products[(products['recurrent'] == False) & (products['duration'] == 90)]\n",
    "product_instances.iloc[product_instances['product_id'].isin(not_recurrent.index).values, 4] = pd.to_datetime(product_instances.iloc[product_instances['product_id'].isin(not_recurrent.index).values, 3]) + pd.DateOffset(days=90)\n",
    "\n",
    "recurrent = products[(products['recurrent'] == True)]\n",
    "days_to_add = np.random.randint(90, 300, product_instances.loc[(product_instances['product_id'].isin(recurrent.index).values), 'activation_date'].count())\n",
    "days_to_add = np.array(pd.Series(days_to_add).apply(lambda d: pd.DateOffset(days=d)))\n",
    "product_instances.iloc[product_instances['product_id'].isin(recurrent.index).values, 4] = pd.to_datetime(product_instances.loc[product_instances['product_id'].isin(recurrent.index), 'activation_date']) + days_to_add\n",
    "\n",
    "# Online sales of telecom services account for only one-fifth of all sales. Source: https://www.kearney.com/communications-media-technology/article/?/a/the-telecom-consumer-of-the-future\n",
    "product_instances['distribution_channel'] = np.random.choice(['physical_store', 'online'], size=product_instances.count()[0], p=[0.8, 0.2])\n",
    "product_instances['status'] = 'active'\n",
    "\n",
    "product_instances.head()"
   ],
   "metadata": {
    "collapsed": false,
    "pycharm": {
     "name": "#%%\n"
    }
   }
  },
  {
   "cell_type": "markdown",
   "source": [
    "\n",
    "## Internet and calling activity\n",
    "Source: The Influence of Social Norms on Synchronous versus Asynchronous Communication Technologies, Almaatouq et al.\n",
    "![Calling activity](Mobile-phone-call-activity-in-Dammam-Riyadh-and-Jeddah.png)\n",
    "\n"
   ],
   "metadata": {
    "collapsed": false,
    "pycharm": {
     "name": "#%% md\n"
    }
   }
  },
  {
   "cell_type": "code",
   "execution_count": 15,
   "outputs": [],
   "source": [
    "size = 100000\n",
    "def activity_distribution_generation(size):\n",
    "    distributions = [\n",
    "        truncnorm.rvs(1, 7, loc=-2, scale=2, size=int(0.085*size)),\n",
    "        truncnorm.rvs(-7, 0.48, loc=12, scale=2, size=int(0.203*size)),\n",
    "        truncnorm.rvs(0, 0.74, loc=13, scale=4, size=int(0.17*size)),\n",
    "        truncnorm.rvs(-0.75, 0, loc=17.5, scale=2, size=int(0.101*size)),\n",
    "        truncnorm.rvs(-0.13, 0.66, loc=18, scale=3, size=int(0.17*size))\n",
    "    ]\n",
    "    left_length = size - sum([len(x) for x in distributions])\n",
    "    last_part = truncnorm.rvs(0, 1, loc=20, scale=4, size=left_length)\n",
    "    distributions.append(last_part)\n",
    "    total_uses = np.concatenate(distributions)\n",
    "    return total_uses"
   ],
   "metadata": {
    "collapsed": false,
    "pycharm": {
     "name": "#%%\n"
    }
   }
  },
  {
   "cell_type": "code",
   "execution_count": 16,
   "outputs": [
    {
     "name": "stderr",
     "output_type": "stream",
     "text": [
      "/Library/Frameworks/Python.framework/Versions/3.9/lib/python3.9/site-packages/seaborn/distributions.py:967: MatplotlibDeprecationWarning: Case-insensitive properties were deprecated in 3.3 and support will be removed two minor releases later\n",
      "  scout = self.ax.fill_between([], [], **plot_kws)\n",
      "/Library/Frameworks/Python.framework/Versions/3.9/lib/python3.9/site-packages/seaborn/distributions.py:1015: MatplotlibDeprecationWarning: Case-insensitive properties were deprecated in 3.3 and support will be removed two minor releases later\n",
      "  artist = ax.fill_between(\n"
     ]
    },
    {
     "data": {
      "text/plain": "<AxesSubplot:ylabel='Density'>"
     },
     "execution_count": 16,
     "metadata": {},
     "output_type": "execute_result"
    },
    {
     "data": {
      "text/plain": "<Figure size 432x288 with 1 Axes>",
      "image/png": "[encoded data removed]"
     },
     "metadata": {
      "needs_background": "light"
     },
     "output_type": "display_data"
    }
   ],
   "source": [
    "total_uses = activity_distribution_generation(size)\n",
    "g = sns.kdeplot(total_uses, color='b', shade=True, Label='Iris_Virginica', cut=0, bw_adjust=0.2)\n",
    "g.set_xticks(range(0, 25, 2))\n",
    "g.set_xticklabels([str(x) for x in range(0, 25, 2)])\n",
    "g"
   ],
   "metadata": {
    "collapsed": false,
    "pycharm": {
     "name": "#%%\n"
    }
   }
  },
  {
   "cell_type": "code",
   "execution_count": 17,
   "outputs": [
    {
     "name": "stdout",
     "output_type": "stream",
     "text": [
      "1 "
     ]
    },
    {
     "name": "stderr",
     "output_type": "stream",
     "text": [
      "/var/folders/kp/_hf48f0d5mn2mk2155wwrpjr0000gn/T/ipykernel_1482/1595523363.py:33: UserWarning: you are shuffling a 'Series' object which is not a subclass of 'Sequence'; `shuffle` is not guaranteed to behave correctly. E.g., non-numpy array/tensor objects with view semantics may contain duplicates after shuffling.\n",
      "  np.random.shuffle(calls_timestamps)\n"
     ]
    },
    {
     "name": "stdout",
     "output_type": "stream",
     "text": [
      "2 3 4 5 6 7 8 9 10 11 12 13 14 15 16 17 18 19 20 21 22 23 24 25 26 27 28 29 30 31 "
     ]
    },
    {
     "data": {
      "text/plain": "  customer_id product_id expenditure activation_date termination_date  \\\n0         492          0  120.039531      2022-02-06       2022-11-05   \n1         492          0  120.039531      2022-02-06       2022-11-05   \n2         492          0  120.039531      2022-02-06       2022-11-05   \n3         492          0  120.039531      2022-02-06       2022-11-05   \n4         492          0  120.039531      2022-02-06       2022-11-05   \n\n  category    type cost_for_call cost_for_sms cost_for_data  ...  \\\n0  prepaid  tariff          0.55         0.25         0.002  ...   \n1  prepaid  tariff          0.55         0.25         0.002  ...   \n2  prepaid  tariff          0.55         0.25         0.002  ...   \n3  prepaid  tariff          0.55         0.25         0.002  ...   \n4  prepaid  tariff          0.55         0.25         0.002  ...   \n\n  allowance_data cumulative_charge business_product_instance_id vacant_sum  \\\n0   1000000000.0              34.5                         1851  85.539531   \n1   1000000000.0              34.5                         1851  85.539531   \n2   1000000000.0              34.5                         1851  85.539531   \n3   1000000000.0              34.5                         1851  85.539531   \n4   1000000000.0              34.5                         1851  85.539531   \n\n   duration                          date cost number_of_sms  total_volume  \\\n0  1.290323 2022-03-01 21:39:23.978059200    0             0             0   \n1  1.290323 2022-03-01 11:25:58.184234400    0             0             0   \n2  1.290323 2022-03-01 22:36:07.045862400    0             0             0   \n3  1.290323 2022-03-01 18:47:57.258229200    0             0             0   \n4  1.290323 2022-03-01 10:54:42.120612000    0             0             0   \n\n   event_type  \n0        call  \n1        call  \n2        call  \n3        call  \n4        call  \n\n[5 rows x 22 columns]",
      "text/html": "<div>\n<style scoped>\n    .dataframe tbody tr th:only-of-type {\n        vertical-align: middle;\n    }\n\n    .dataframe tbody tr th {\n        vertical-align: top;\n    }\n\n    .dataframe thead th {\n        text-align: right;\n    }\n</style>\n<table border=\"1\" class=\"dataframe\">\n  <thead>\n    <tr style=\"text-align: right;\">\n      <th></th>\n      <th>customer_id</th>\n      <th>product_id</th>\n      <th>expenditure</th>\n      <th>activation_date</th>\n      <th>termination_date</th>\n      <th>category</th>\n      <th>type</th>\n      <th>cost_for_call</th>\n      <th>cost_for_sms</th>\n      <th>cost_for_data</th>\n      <th>...</th>\n      <th>allowance_data</th>\n      <th>cumulative_charge</th>\n      <th>business_product_instance_id</th>\n      <th>vacant_sum</th>\n      <th>duration</th>\n      <th>date</th>\n      <th>cost</th>\n      <th>number_of_sms</th>\n      <th>total_volume</th>\n      <th>event_type</th>\n    </tr>\n  </thead>\n  <tbody>\n    <tr>\n      <th>0</th>\n      <td>492</td>\n      <td>0</td>\n      <td>120.039531</td>\n      <td>2022-02-06</td>\n      <td>2022-11-05</td>\n      <td>prepaid</td>\n      <td>tariff</td>\n      <td>0.55</td>\n      <td>0.25</td>\n      <td>0.002</td>\n      <td>...</td>\n      <td>1000000000.0</td>\n      <td>34.5</td>\n      <td>1851</td>\n      <td>85.539531</td>\n      <td>1.290323</td>\n      <td>2022-03-01 21:39:23.978059200</td>\n      <td>0</td>\n      <td>0</td>\n      <td>0</td>\n      <td>call</td>\n    </tr>\n    <tr>\n      <th>1</th>\n      <td>492</td>\n      <td>0</td>\n      <td>120.039531</td>\n      <td>2022-02-06</td>\n      <td>2022-11-05</td>\n      <td>prepaid</td>\n      <td>tariff</td>\n      <td>0.55</td>\n      <td>0.25</td>\n      <td>0.002</td>\n      <td>...</td>\n      <td>1000000000.0</td>\n      <td>34.5</td>\n      <td>1851</td>\n      <td>85.539531</td>\n      <td>1.290323</td>\n      <td>2022-03-01 11:25:58.184234400</td>\n      <td>0</td>\n      <td>0</td>\n      <td>0</td>\n      <td>call</td>\n    </tr>\n    <tr>\n      <th>2</th>\n      <td>492</td>\n      <td>0</td>\n      <td>120.039531</td>\n      <td>2022-02-06</td>\n      <td>2022-11-05</td>\n      <td>prepaid</td>\n      <td>tariff</td>\n      <td>0.55</td>\n      <td>0.25</td>\n      <td>0.002</td>\n      <td>...</td>\n      <td>1000000000.0</td>\n      <td>34.5</td>\n      <td>1851</td>\n      <td>85.539531</td>\n      <td>1.290323</td>\n      <td>2022-03-01 22:36:07.045862400</td>\n      <td>0</td>\n      <td>0</td>\n      <td>0</td>\n      <td>call</td>\n    </tr>\n    <tr>\n      <th>3</th>\n      <td>492</td>\n      <td>0</td>\n      <td>120.039531</td>\n      <td>2022-02-06</td>\n      <td>2022-11-05</td>\n      <td>prepaid</td>\n      <td>tariff</td>\n      <td>0.55</td>\n      <td>0.25</td>\n      <td>0.002</td>\n      <td>...</td>\n      <td>1000000000.0</td>\n      <td>34.5</td>\n      <td>1851</td>\n      <td>85.539531</td>\n      <td>1.290323</td>\n      <td>2022-03-01 18:47:57.258229200</td>\n      <td>0</td>\n      <td>0</td>\n      <td>0</td>\n      <td>call</td>\n    </tr>\n    <tr>\n      <th>4</th>\n      <td>492</td>\n      <td>0</td>\n      <td>120.039531</td>\n      <td>2022-02-06</td>\n      <td>2022-11-05</td>\n      <td>prepaid</td>\n      <td>tariff</td>\n      <td>0.55</td>\n      <td>0.25</td>\n      <td>0.002</td>\n      <td>...</td>\n      <td>1000000000.0</td>\n      <td>34.5</td>\n      <td>1851</td>\n      <td>85.539531</td>\n      <td>1.290323</td>\n      <td>2022-03-01 10:54:42.120612000</td>\n      <td>0</td>\n      <td>0</td>\n      <td>0</td>\n      <td>call</td>\n    </tr>\n  </tbody>\n</table>\n<p>5 rows × 22 columns</p>\n</div>"
     },
     "execution_count": 17,
     "metadata": {},
     "output_type": "execute_result"
    }
   ],
   "source": [
    "# total_minutes = from table\n",
    "instances_and_costs = pd.merge(product_instances, products, left_on='product_id', right_on='id')\n",
    "instances_and_costs['business_product_instance_id'] = instances_and_costs.index\n",
    "instances_and_costs['vacant_sum'] = instances_and_costs['expenditure'] - instances_and_costs['cumulative_charge']\n",
    "instances_and_costs[instances_and_costs['vacant_sum'] < 0] = 0\n",
    "instances_and_costs.drop(['distribution_channel', 'status', 'name', 'recurrent', 'duration'], axis=1, inplace=True)\n",
    "\n",
    "# CALLS\n",
    "# Most unlimited accounts must be for businessmen. The average number of calls per day is 60, the average minutes number per day is 180. Source: https://www.salesbuzz.com/how-many-sales-calls-should-i-make-per-day/\n",
    "# The mobile phone calls median is 8. Source: https://www.pewresearch.org/internet/2010/09/02/cell-phones-and-american-adults/\n",
    "# Since no scientific papers regarding the distribution of phone calls number was fined, the average values are used and the duration is evenly spread\n",
    "# This generation is for the included calls, so the rounding of minutes does not matter\n",
    "calls_daily_median_regular = 5\n",
    "calls_daily_mean_unlimited_plans = 60\n",
    "calls_daily_mean_length_unlimited = 180 / 60\n",
    "calls_regular_total = instances_and_costs[(instances_and_costs['allowance_voice'] < sys.maxsize) & (instances_and_costs['allowance_voice'] > 0)].count()[0] * calls_daily_median_regular\n",
    "calls_unlimited_total = instances_and_costs[instances_and_costs['allowance_voice'] == sys.maxsize].count()[0] * calls_daily_mean_unlimited_plans\n",
    "total_calls_daily = calls_regular_total + calls_unlimited_total\n",
    "\n",
    "\n",
    "events_limited_calls = pd.DataFrame(np.repeat(instances_and_costs[(instances_and_costs['allowance_voice'] < sys.maxsize) & (instances_and_costs['allowance_voice'] > 0)].values, calls_daily_median_regular, axis=0), columns=instances_and_costs.columns)\n",
    "events_limited_calls['duration'] = events_limited_calls['allowance_voice'] / 31 / calls_daily_median_regular\n",
    "events_unlimited_calls = pd.DataFrame(np.repeat(instances_and_costs[instances_and_costs['allowance_voice'] == sys.maxsize].values, calls_daily_mean_unlimited_plans, axis=0), columns=instances_and_costs.columns)\n",
    "events_unlimited_calls['duration'] = calls_daily_mean_length_unlimited\n",
    "events = events_limited_calls.append(events_unlimited_calls)\n",
    "\n",
    "# GENERATION OF CALL EVENTS - COPY AN EVENT PROMPT TABLE FOR EACH DAY\n",
    "calls = []\n",
    "# The generation period is March 20\n",
    "for day in range(1, 32):\n",
    "    print(day, end=' ')\n",
    "    calls_timestamps = pd.Series(activity_distribution_generation(total_calls_daily))\n",
    "    np.random.shuffle(calls_timestamps)\n",
    "    calls_timestamps = datetime(2022, 3, day) + pd.TimedeltaIndex(calls_timestamps, unit='h')\n",
    "    current = events.copy()\n",
    "    current['date'] = calls_timestamps\n",
    "    calls.append(current)\n",
    "# CREATE ONE DATAFRAME FROM THE CALLS ARRAY\n",
    "\n",
    "calls_events = calls[0]\n",
    "for i in range(1, len(calls)):\n",
    "    calls_events = calls_events.append(calls[i])\n",
    "\n",
    "calls_events['cost'] = 0\n",
    "calls_events['number_of_sms'] = 0\n",
    "calls_events['total_volume'] = 0\n",
    "calls_events['event_type'] = 'call'\n",
    "\n",
    "calls_events.head()\n",
    "\n",
    "\n",
    "# DATA\n",
    "# SMS\n",
    "\n",
    "# instances_and_costs.head()"
   ],
   "metadata": {
    "collapsed": false,
    "pycharm": {
     "name": "#%%\n"
    }
   }
  },
  {
   "cell_type": "code",
   "execution_count": 18,
   "outputs": [
    {
     "name": "stdout",
     "output_type": "stream",
     "text": [
      "1 "
     ]
    },
    {
     "name": "stderr",
     "output_type": "stream",
     "text": [
      "/var/folders/kp/_hf48f0d5mn2mk2155wwrpjr0000gn/T/ipykernel_1482/3055990876.py:23: UserWarning: you are shuffling a 'Series' object which is not a subclass of 'Sequence'; `shuffle` is not guaranteed to behave correctly. E.g., non-numpy array/tensor objects with view semantics may contain duplicates after shuffling.\n",
      "  np.random.shuffle(data_timestamps)\n"
     ]
    },
    {
     "name": "stdout",
     "output_type": "stream",
     "text": [
      "2 3 4 5 6 7 8 9 10 11 12 13 14 15 16 17 18 19 20 21 22 23 24 25 26 27 28 29 30 31 True\n"
     ]
    }
   ],
   "source": [
    "# Source: https://www.statista.com/statistics/1050339/average-unlocks-per-day-us-smartphone-users/\n",
    "unlocks_daily_mean_regular = 5\n",
    "# unlocks_daily_mean_unlimited = 180 / 60\n",
    "maxsize = products['allowance_data'].max()\n",
    "\n",
    "internet_accesses_regular_total = instances_and_costs[(instances_and_costs['allowance_data'] < maxsize) & (instances_and_costs['allowance_data'] > 0)].count()[0] * unlocks_daily_mean_regular\n",
    "internet_accesses_unlimited_total = instances_and_costs[instances_and_costs['allowance_data'] == maxsize].count()[0] * unlocks_daily_mean_regular\n",
    "total_internet_access_number_daily = internet_accesses_regular_total + internet_accesses_unlimited_total\n",
    "\n",
    "\n",
    "events_limited_data = pd.DataFrame(np.repeat(instances_and_costs[(instances_and_costs['allowance_data'] < maxsize) & (instances_and_costs['allowance_data'] > 0)].values, unlocks_daily_mean_regular, axis=0), columns=instances_and_costs.columns)\n",
    "events_limited_data['total_volume'] = events_limited_data['allowance_data'] / 31 / unlocks_daily_mean_regular\n",
    "events_unlimited_data = pd.DataFrame(np.repeat(instances_and_costs[instances_and_costs['allowance_data'] == maxsize].values, unlocks_daily_mean_regular, axis=0), columns=instances_and_costs.columns)\n",
    "events_unlimited_data['total_volume'] = events_limited_data['allowance_data'] / 31 / unlocks_daily_mean_regular\n",
    "events = events_limited_data.append(events_unlimited_data)\n",
    "\n",
    "# GENERATION OF data EVENTS - COPY AN EVENT PROMPT TABLE FOR EACH DAY\n",
    "data_accesses = []\n",
    "# The generation period is March 20\n",
    "for day in range(1, 32):\n",
    "    print(day, end=' ')\n",
    "    data_timestamps = pd.Series(activity_distribution_generation(total_internet_access_number_daily))\n",
    "    np.random.shuffle(data_timestamps)\n",
    "    data_timestamps = datetime(2022, 3, day) + pd.TimedeltaIndex(data_timestamps, unit='h')\n",
    "    current = events.copy()\n",
    "    current['date'] = data_timestamps\n",
    "    data_accesses.append(current)\n",
    "# CREATE ONE DATAFRAME FROM THE data ARRAY\n",
    "data_events = data_accesses[0]\n",
    "for i in range(1, len(data_accesses)):\n",
    "    data_events = data_events.append(data_accesses[i])\n",
    "\n",
    "data_events['cost'] = 0\n",
    "data_events['number_of_sms'] = 0\n",
    "data_events['duration'] = 0\n",
    "data_events['event_type'] = 'data'\n",
    "print(data_events.shape[0] == total_internet_access_number_daily * 31)"
   ],
   "metadata": {
    "collapsed": false,
    "pycharm": {
     "name": "#%%\n"
    }
   }
  },
  {
   "cell_type": "code",
   "execution_count": 19,
   "outputs": [
    {
     "name": "stdout",
     "output_type": "stream",
     "text": [
      "here\n",
      "vacant_sum\n",
      "cumulative_charge\n",
      "customer_id\n",
      "product_id\n",
      "expenditure\n",
      "activation_date\n",
      "termination_date\n",
      "category\n",
      "type\n",
      "cost_for_call\n",
      "cost_for_sms\n",
      "cost_for_data\n",
      "allowance_sms\n",
      "allowance_voice\n",
      "allowance_data\n"
     ]
    }
   ],
   "source": [
    "events_0 = calls_events.append(data_events)\n",
    "events_0['calling_msisdn'] = events_0['customer_id']\n",
    "cols_to_drop = ['vacant_sum', 'cumulative_charge', 'customer_id', 'product_id', 'expenditure', 'activation_date', 'termination_date', 'category', 'type', 'cost_for_call', 'cost_for_sms', 'cost_for_data', 'allowance_sms', 'allowance_voice', 'allowance_data']\n",
    "print('here')\n",
    "for col in cols_to_drop:\n",
    "    print(col)\n",
    "    events_0.pop(col)\n",
    "# calls_events['event_id'] = np.arange(len(calls_events))\n",
    "# calls_events['direction'] = 'outcoming'\n",
    "# calls_events['roaming'] = np.random.choice([True, False], size=calls_events.count()[0], p=[0.1 ,0.9])\n",
    "# calls_events['called_msisdn'] = -1"
   ],
   "metadata": {
    "collapsed": false,
    "pycharm": {
     "name": "#%%\n"
    }
   }
  },
  {
   "cell_type": "code",
   "execution_count": 20,
   "outputs": [
    {
     "name": "stdout",
     "output_type": "stream",
     "text": [
      "business_product_instance_id    3526505\n",
      "cost                            3526505\n",
      "duration                        3526505\n",
      "number_of_sms                   3526505\n",
      "total_volume                    3526505\n",
      "event_type                      3526505\n",
      "date                            3525524\n",
      "calling_msisdn                  3526505\n",
      "event_id                        3526505\n",
      "direction                       3526505\n",
      "roaming                         3526505\n",
      "called_msisdn                   3526505\n",
      "dtype: int64\n"
     ]
    },
    {
     "data": {
      "text/plain": "   business_product_instance_id       cost duration  number_of_sms  \\\n44                           24  38.099134        0          133.0   \n48                           24  37.560467        0          131.0   \n52                           24  36.795018        0          129.0   \n54                           24  36.251522        0          127.0   \n57                           24  35.940090        0          126.0   \n\n   total_volume event_type        date calling_msisdn  event_id  direction  \\\n44            0        sms  2022-03-13             -1         0  outcoming   \n48            0        sms  2022-03-04             -1         1  outcoming   \n52            0        sms  2022-03-13             -1         2  outcoming   \n54            0        sms  2022-03-13             -1         3  outcoming   \n57            0        sms  2022-03-23             -1         4  outcoming   \n\n    roaming  called_msisdn  \n44    False             -1  \n48    False             -1  \n52    False             -1  \n54    False             -1  \n57    False             -1  ",
      "text/html": "<div>\n<style scoped>\n    .dataframe tbody tr th:only-of-type {\n        vertical-align: middle;\n    }\n\n    .dataframe tbody tr th {\n        vertical-align: top;\n    }\n\n    .dataframe thead th {\n        text-align: right;\n    }\n</style>\n<table border=\"1\" class=\"dataframe\">\n  <thead>\n    <tr style=\"text-align: right;\">\n      <th></th>\n      <th>business_product_instance_id</th>\n      <th>cost</th>\n      <th>duration</th>\n      <th>number_of_sms</th>\n      <th>total_volume</th>\n      <th>event_type</th>\n      <th>date</th>\n      <th>calling_msisdn</th>\n      <th>event_id</th>\n      <th>direction</th>\n      <th>roaming</th>\n      <th>called_msisdn</th>\n    </tr>\n  </thead>\n  <tbody>\n    <tr>\n      <th>44</th>\n      <td>24</td>\n      <td>38.099134</td>\n      <td>0</td>\n      <td>133.0</td>\n      <td>0</td>\n      <td>sms</td>\n      <td>2022-03-13</td>\n      <td>-1</td>\n      <td>0</td>\n      <td>outcoming</td>\n      <td>False</td>\n      <td>-1</td>\n    </tr>\n    <tr>\n      <th>48</th>\n      <td>24</td>\n      <td>37.560467</td>\n      <td>0</td>\n      <td>131.0</td>\n      <td>0</td>\n      <td>sms</td>\n      <td>2022-03-04</td>\n      <td>-1</td>\n      <td>1</td>\n      <td>outcoming</td>\n      <td>False</td>\n      <td>-1</td>\n    </tr>\n    <tr>\n      <th>52</th>\n      <td>24</td>\n      <td>36.795018</td>\n      <td>0</td>\n      <td>129.0</td>\n      <td>0</td>\n      <td>sms</td>\n      <td>2022-03-13</td>\n      <td>-1</td>\n      <td>2</td>\n      <td>outcoming</td>\n      <td>False</td>\n      <td>-1</td>\n    </tr>\n    <tr>\n      <th>54</th>\n      <td>24</td>\n      <td>36.251522</td>\n      <td>0</td>\n      <td>127.0</td>\n      <td>0</td>\n      <td>sms</td>\n      <td>2022-03-13</td>\n      <td>-1</td>\n      <td>3</td>\n      <td>outcoming</td>\n      <td>False</td>\n      <td>-1</td>\n    </tr>\n    <tr>\n      <th>57</th>\n      <td>24</td>\n      <td>35.940090</td>\n      <td>0</td>\n      <td>126.0</td>\n      <td>0</td>\n      <td>sms</td>\n      <td>2022-03-23</td>\n      <td>-1</td>\n      <td>4</td>\n      <td>outcoming</td>\n      <td>False</td>\n      <td>-1</td>\n    </tr>\n  </tbody>\n</table>\n</div>"
     },
     "execution_count": 20,
     "metadata": {},
     "output_type": "execute_result"
    }
   ],
   "source": [
    "\n",
    "\n",
    "df2 = product_instances[product_instances['product_id'].isin([range(3)])]\n",
    "df2_1 = df2[df2['product_id'] == 0]\n",
    "events2_3 = pd.DataFrame({\n",
    "    'business_product_instance_id': df2_1['product_id'],\n",
    "    'cost': df2_1['expenditure'] - 34.5,\n",
    "    'duration': 0,\n",
    "    'number_of_sms': (df2_1['expenditure'] - 34.5) // 0.25,\n",
    "    'total_volume': 0,\n",
    "    'event_type': 'sms',\n",
    "})\n",
    "\n",
    "df2_2 = df2[df2['product_id'] == 1]\n",
    "events2_4 = pd.DataFrame({\n",
    "    'business_product_instance_id': df2_2['product_id'],\n",
    "    'cost': df2_2['expenditure'] - 126.5,\n",
    "    'duration': 0,\n",
    "    'number_of_sms': (df2_2['expenditure'] - 126.5) // 0.25,\n",
    "    'total_volume': 0,\n",
    "    'event_type': 'sms',\n",
    "})\n",
    "\n",
    "df2_3 = df2[df2['product_id'] == 2]\n",
    "events2_5 = pd.DataFrame({\n",
    "    'business_product_instance_id': df2_3['product_id'],\n",
    "    'cost': df2_3['expenditure'] - 253.0,\n",
    "    'duration': 0,\n",
    "    'number_of_sms': (df2_3['expenditure'] - 253.0) // 0.25,\n",
    "    'total_volume': 0,\n",
    "    'event_type': 'sms',\n",
    "})\n",
    "\n",
    "df3 = product_instances[product_instances['product_id'].isin([24, 25])]\n",
    "df3_1 = df3[df3['product_id'] == 24]\n",
    "events3_3 = pd.DataFrame({\n",
    "    'business_product_instance_id': df3_1['product_id'],\n",
    "    'cost': df3_1['expenditure'] - 80.5,\n",
    "    'duration': 0,\n",
    "    'number_of_sms': (df3_1['expenditure'] - 80.5) // 0.285,\n",
    "    'total_volume': 0,\n",
    "    'event_type': 'sms',\n",
    "})\n",
    "\n",
    "df3_2 = df3[df3['product_id'] == 25]\n",
    "events3_4 = pd.DataFrame({\n",
    "    'business_product_instance_id': df3_2['product_id'],\n",
    "    'cost': df3_2['expenditure'] - 517.5,\n",
    "    'duration': 0,\n",
    "    'number_of_sms': (df3_2['expenditure'] - 517.5) // 0.285,\n",
    "    'total_volume': 0,\n",
    "    'event_type': 'sms',\n",
    "})\n",
    "\n",
    "\n",
    "events = pd.concat([events2_3, events2_4, events2_5, events3_3, events3_4], axis=0)\n",
    "dates = []\n",
    "for _ in range(events.count()[0]):\n",
    "    dates.append(random_date(\"2022-03-01\", \"2022-03-31\", random.random()))\n",
    "events['date'] = pd.Series(dates)\n",
    "events['calling_msisdn'] = -1\n",
    "\n",
    "events = pd.concat([events, events_0], axis=0)\n",
    "events['event_id'] = np.arange(len(events))\n",
    "events['direction'] = 'outcoming'\n",
    "events['roaming'] = np.random.choice([True, False], size=events.count()[0], p=[0.1 ,0.9])\n",
    "events['called_msisdn'] = -1\n",
    "print(events.count())\n",
    "events.head()"
   ],
   "metadata": {
    "collapsed": false,
    "pycharm": {
     "name": "#%%\n"
    }
   }
  },
  {
   "cell_type": "code",
   "execution_count": 21,
   "outputs": [],
   "source": [
    "number_of_chunks = 5\n",
    "for id, df_i in enumerate(np.array_split(events, number_of_chunks)):\n",
    "    df_i.to_csv(f'costed_events_{id}.csv')\n",
    "\n",
    "\n",
    "\n",
    "# events.to_csv('costed_events.csv')"
   ],
   "metadata": {
    "collapsed": false,
    "pycharm": {
     "name": "#%%\n"
    }
   }
  },
  {
   "cell_type": "code",
   "execution_count": 22,
   "outputs": [],
   "source": [
    "# df1 = product_instances[product_instances['product_id'].isin([range(3,9)])]\n",
    "# events1 = pd.DataFrame({\n",
    "#     'business_product_instance_id': df1['product_id'],\n",
    "#     'cost': 0,\n",
    "#     'duration': 0,\n",
    "#     'number_of_sms': 0,\n",
    "#     'total_volume': np.random.randint(1, 10, df1.count()[0]) * 10e6,\n",
    "#     'event_type': 'data',\n",
    "# })\n",
    "#\n",
    "# df2 = product_instances[product_instances['product_id'].isin([range(3)])]\n",
    "# events2_1 = pd.DataFrame({\n",
    "#     'business_product_instance_id': df2['product_id'],\n",
    "#     'cost': 0,\n",
    "#     'duration': np.random.randint(1, 100, df2.count()[0]),\n",
    "#     'number_of_sms': 0,\n",
    "#     'total_volume': 0,\n",
    "#     'event_type': 'call',\n",
    "# })\n",
    "#\n",
    "# events2_2 = pd.DataFrame({\n",
    "#     'business_product_instance_id': df2['product_id'],\n",
    "#     'cost': 0,\n",
    "#     'duration': 0,\n",
    "#     'number_of_sms': 0,\n",
    "#     'total_volume': np.random.randint(1, 10, df2.count()[0]) * 10e4,\n",
    "#     'event_type': 'data',\n",
    "# })\n",
    "#\n",
    "# df2_1 = df2[df2['product_id'] == 0]\n",
    "# events2_3 = pd.DataFrame({\n",
    "#     'business_product_instance_id': df2_1['product_id'],\n",
    "#     'cost': df2_1['expenditure'] - 34.5,\n",
    "#     'duration': 0,\n",
    "#     'number_of_sms': (df2_1['expenditure'] - 34.5) // 0.25,\n",
    "#     'total_volume': 0,\n",
    "#     'event_type': 'sms',\n",
    "# })\n",
    "#\n",
    "# df2_2 = df2[df2['product_id'] == 1]\n",
    "# events2_4 = pd.DataFrame({\n",
    "#     'business_product_instance_id': df2_2['product_id'],\n",
    "#     'cost': df2_2['expenditure'] - 126.5,\n",
    "#     'duration': 0,\n",
    "#     'number_of_sms': (df2_2['expenditure'] - 126.5) // 0.25,\n",
    "#     'total_volume': 0,\n",
    "#     'event_type': 'sms',\n",
    "# })\n",
    "#\n",
    "# df2_3 = df2[df2['product_id'] == 2]\n",
    "# events2_5 = pd.DataFrame({\n",
    "#     'business_product_instance_id': df2_3['product_id'],\n",
    "#     'cost': df2_3['expenditure'] - 253.0,\n",
    "#     'duration': 0,\n",
    "#     'number_of_sms': (df2_3['expenditure'] - 253.0) // 0.25,\n",
    "#     'total_volume': 0,\n",
    "#     'event_type': 'sms',\n",
    "# })\n",
    "#\n",
    "# df3 = product_instances[product_instances['product_id'].isin([24, 25])]\n",
    "# events3_1 = pd.DataFrame({\n",
    "#     'business_product_instance_id': df3['product_id'],\n",
    "#     'cost': 0,\n",
    "#     'duration': np.random.randint(1, 100, df3.count()[0]),\n",
    "#     'number_of_sms': 0,\n",
    "#     'total_volume': 0,\n",
    "#     'event_type': 'call',\n",
    "# })\n",
    "#\n",
    "# events3_2 = pd.DataFrame({\n",
    "#     'business_product_instance_id': df3['product_id'],\n",
    "#     'cost': 0,\n",
    "#     'duration': 0,\n",
    "#     'number_of_sms': 0,\n",
    "#     'total_volume': np.random.randint(1, 10, df3.count()[0]) * 10e4,\n",
    "#     'event_type': 'data',\n",
    "# })\n",
    "#\n",
    "# df3_1 = df3[df3['product_id'] == 24]\n",
    "# events3_3 = pd.DataFrame({\n",
    "#     'business_product_instance_id': df3_1['product_id'],\n",
    "#     'cost': df3_1['expenditure'] - 80.5,\n",
    "#     'duration': 0,\n",
    "#     'number_of_sms': (df3_1['expenditure'] - 80.5) // 0.285,\n",
    "#     'total_volume': 0,\n",
    "#     'event_type': 'sms',\n",
    "# })\n",
    "#\n",
    "# df3_2 = df3[df3['product_id'] == 25]\n",
    "# events3_4 = pd.DataFrame({\n",
    "#     'business_product_instance_id': df3_2['product_id'],\n",
    "#     'cost': df3_2['expenditure'] - 517.5,\n",
    "#     'duration': 0,\n",
    "#     'number_of_sms': (df3_2['expenditure'] - 517.5) // 0.285,\n",
    "#     'total_volume': 0,\n",
    "#     'event_type': 'sms',\n",
    "# })\n",
    "#\n",
    "#\n",
    "# events = pd.concat([value for key, value in globals().items() if key.startswith('event')], axis=0)\n",
    "#\n",
    "# events['event_id'] = np.arange(len(events))\n",
    "# dates = []\n",
    "# for _ in range(events.count()[0]):\n",
    "#     dates.append(random_date(\"2022-03-01\", \"2022-03-31\", random.random()))\n",
    "# events['date'] = pd.Series(dates)\n",
    "#\n",
    "# events['direction'] = 'outcoming'\n",
    "# events['roaming'] = np.random.choice([True, False], size=events.count()[0], p=[0.1 ,0.9])\n",
    "# events['calling_msisdn'] = -1\n",
    "# events['called_msisdn'] = -1\n",
    "# events.head()"
   ],
   "metadata": {
    "collapsed": false,
    "pycharm": {
     "name": "#%%\n"
    }
   }
  },
  {
   "cell_type": "code",
   "execution_count": 23,
   "outputs": [],
   "source": [
    "product_instances.pop('expenditure')\n",
    "product_instances.to_csv('business_product_instances.csv')"
   ],
   "metadata": {
    "collapsed": false,
    "pycharm": {
     "name": "#%%\n"
    }
   }
  }
 ],
 "metadata": {
  "kernelspec": {
   "display_name": "Python 3",
   "language": "python",
   "name": "python3"
  },
  "language_info": {
   "codemirror_mode": {
    "name": "ipython",
    "version": 2
   },
   "file_extension": ".py",
   "mimetype": "text/x-python",
   "name": "python",
   "nbconvert_exporter": "python",
   "pygments_lexer": "ipython2",
   "version": "2.7.6"
  }
 },
 "nbformat": 4,
 "nbformat_minor": 0
}